{
 "cells": [
  {
   "attachments": {},
   "cell_type": "markdown",
   "id": "4ba51a29-a566-4b5a-97f0-10e634567e40",
   "metadata": {
    "collapsed": true,
    "jupyter": {
     "outputs_hidden": true
    }
   },
   "source": [
    "# Configure Observability for AgentCore Gateway with Amazon CloudWatch and AWS CloudTrail\n",
    "\n",
    "* Amazon CloudWatch focuses on real-time performance monitoring and operational troubleshooting for AgentCore Gateway, providing detailed metrics and logs for latency, error rates, and usage patterns. \n",
    "* AWS CloudTrail focuses on security, compliance, and auditing by recording a full history of API calls and user actions related to the gateway. \n",
    "\n",
    "Together, they offer a holistic observability and governance framework for managing AgentCore Gateway in production.\n",
    "\n",
    "**Amazon CloudWatch**\n",
    "\n",
    "Primarily logs AgentCore Gateway Data Plane interactions - List Gateway tools (tools/list), Call a gateway tool (tools/call), Search for a gateway tool (tools/call)\n",
    "\n",
    "| Component Type | Description | \n",
    "| --- | --- | \n",
    "| Metrics | Performance and operational data | \n",
    "| Traces, Spans, Requests | Request trajectory tracking | \n",
    "| Application Logs | Data plane operational logs | \n",
    "\n",
    "**Amazon CloudTrail**\n",
    "\n",
    "Logs AgentCore Gateway Control Plane (CreateGateway, ListGateway, DeleteGateaway etc.) as well as Data Plane interactions (InvokeGateway etc.)\n",
    "\n",
    "| Component Type | Description | \n",
    "| --- | --- | \n",
    "| Management Events | Contains identity information for control plane requests, enabled by default when trail is created| \n",
    "| Data Events |  Information about the resource operations performed on or in a resource . Data events are often high-volume activities. Needs to be explicity enabled. Additional charges incurred.| \n",
    "\n"
   ]
  },
  {
   "cell_type": "markdown",
   "id": "5362e1ad-f027-4452-a8d9-0b861c0115c2",
   "metadata": {},
   "source": [
    "## Creating AgentCore Gateway and monitoring AWS CloudTrail "
   ]
  },
  {
   "cell_type": "markdown",
   "id": "32d1800d",
   "metadata": {},
   "source": [
    "#### Pre-requisities\n",
    "\n",
    "To execute this tutorial you will need:\n",
    "* Jupyter notebook (Python kernel)\n",
    "* uv\n",
    "* AWS credentials\n",
    "* Amazon Cognito"
   ]
  },
  {
   "cell_type": "code",
   "execution_count": null,
   "id": "e326677b-11b5-4488-b01b-573ad275a764",
   "metadata": {},
   "outputs": [],
   "source": [
    "!pip install --force-reinstall -U -r requirements.txt"
   ]
  },
  {
   "cell_type": "code",
   "execution_count": null,
   "id": "a4e6248d-b740-418b-ae0d-c0a9623e43e1",
   "metadata": {},
   "outputs": [],
   "source": [
    "# Set AWS credentials if not using Amazon SageMaker notebook\n",
    "import os\n",
    "# os.environ['AWS_ACCESS_KEY_ID'] = '' # Set the access key\n",
    "# os.environ['AWS_SECRET_ACCESS_KEY'] = '' # Set the secret key\n",
    "os.environ['AWS_DEFAULT_REGION'] = os.environ.get('AWS_REGION', 'us-west-2') # set the AWS region"
   ]
  },
  {
   "cell_type": "code",
   "execution_count": null,
   "id": "cd5f3851-d0ca-484f-bb41-68f66ddbea44",
   "metadata": {},
   "outputs": [],
   "source": [
    "import os\n",
    "import sys\n",
    "\n",
    "# Get the directory of the current script\n",
    "if '__file__' in globals():\n",
    "    current_dir = os.path.dirname(os.path.abspath(__file__))\n",
    "else:\n",
    "    current_dir = os.getcwd()  # Fallback if __file__ is not defined (e.g., Jupyter)\n",
    "\n",
    "# Navigate to the directory containing utils.py (one level up)\n",
    "utils_dir = os.path.abspath(os.path.join(current_dir, '..'))\n",
    "\n",
    "# Add to sys.path\n",
    "sys.path.insert(0, utils_dir)\n",
    "\n",
    "# Now you can import utils\n",
    "import utils"
   ]
  },
  {
   "cell_type": "markdown",
   "id": "525f152a",
   "metadata": {},
   "source": [
    "#### Creating Lambda Function\n",
    "\n",
    "**Note down the Lambda function ARN from the output below**"
   ]
  },
  {
   "cell_type": "code",
   "execution_count": null,
   "id": "ddf8bfe9-8435-44cc-9e8a-ed8ece48f6a6",
   "metadata": {},
   "outputs": [],
   "source": [
    "#### Create a sample AWS Lambda function that you want to convert into MCP tools and note down the lambda ARN\n",
    "\n",
    "lambda_resp = utils.create_gateway_lambda(\"lambda_function_code.zip\")\n",
    "\n",
    "if lambda_resp is not None:\n",
    "    if lambda_resp['exit_code'] == 0:\n",
    "        print(\"NOTE DOWN: Lambda function created with ARN: \", lambda_resp['lambda_function_arn'])\n",
    "    else:\n",
    "        print(\"NOTE DOWN: Lambda function creation failed with message: \", lambda_resp['lambda_function_arn'])"
   ]
  },
  {
   "cell_type": "code",
   "execution_count": null,
   "id": "9ef17018-d2be-40e3-a892-55dd420297f9",
   "metadata": {},
   "outputs": [],
   "source": [
    "#### Create an IAM role for the Gateway to assume\n",
    "import utils\n",
    "agentcore_gateway_iam_role = utils.create_agentcore_gateway_role(\"sample-lambdagateway\")\n",
    "print(\"Agentcore gateway role ARN: \", agentcore_gateway_iam_role['Role']['Arn'])"
   ]
  },
  {
   "cell_type": "markdown",
   "id": "5489e3d2",
   "metadata": {},
   "source": [
    "#### Create Amazon Cognito Pool for Inbound authorization to Gateway"
   ]
  },
  {
   "cell_type": "code",
   "execution_count": null,
   "id": "a65f0b2e",
   "metadata": {},
   "outputs": [],
   "source": [
    "# Creating Cognito User Pool \n",
    "import os\n",
    "import boto3\n",
    "import requests\n",
    "import time\n",
    "from botocore.exceptions import ClientError\n",
    "\n",
    "REGION = os.environ['AWS_DEFAULT_REGION']\n",
    "USER_POOL_NAME = \"sample-agentcore-gateway-pool\"\n",
    "RESOURCE_SERVER_ID = \"sample-agentcore-gateway-id\"\n",
    "RESOURCE_SERVER_NAME = \"sample-agentcore-gateway-name\"\n",
    "CLIENT_NAME = \"sample-agentcore-gateway-client\"\n",
    "SCOPES = [\n",
    "    {\"ScopeName\": \"gateway:read\", \"ScopeDescription\": \"Read access\"},\n",
    "    {\"ScopeName\": \"gateway:write\", \"ScopeDescription\": \"Write access\"}\n",
    "]\n",
    "scopeString = f\"{RESOURCE_SERVER_ID}/gateway:read {RESOURCE_SERVER_ID}/gateway:write\"\n",
    "\n",
    "cognito = boto3.client(\"cognito-idp\", region_name=REGION)\n",
    "\n",
    "print(\"Creating or retrieving Cognito resources...\")\n",
    "user_pool_id = utils.get_or_create_user_pool(cognito, USER_POOL_NAME)\n",
    "print(f\"User Pool ID: {user_pool_id}\")\n",
    "\n",
    "utils.get_or_create_resource_server(cognito, user_pool_id, RESOURCE_SERVER_ID, RESOURCE_SERVER_NAME, SCOPES)\n",
    "print(\"Resource server ensured.\")\n",
    "\n",
    "client_id, client_secret  = utils.get_or_create_m2m_client(cognito, user_pool_id, CLIENT_NAME, RESOURCE_SERVER_ID)\n",
    "print(f\"Client ID: {client_id}\")\n",
    "\n",
    "# Get discovery URL  \n",
    "cognito_discovery_url = f'https://cognito-idp.{REGION}.amazonaws.com/{user_pool_id}/.well-known/openid-configuration'\n",
    "print(cognito_discovery_url)"
   ]
  },
  {
   "cell_type": "markdown",
   "id": "f1a63450-7fb9-42fc-ab4f-3d86c27bb2f8",
   "metadata": {},
   "source": [
    "#### Creating the Gateway with Amazon Cognito Authorizer for inbound authorization"
   ]
  },
  {
   "cell_type": "code",
   "execution_count": null,
   "id": "72f2cd57-7777-42d3-b6f3-c45ed0a935c4",
   "metadata": {},
   "outputs": [],
   "source": [
    "# CreateGateway with Cognito authorizer without CMK. Use the Cognito user pool created in the previous step\n",
    "gateway_client = boto3.client('bedrock-agentcore-control', region_name = os.environ['AWS_DEFAULT_REGION'])\n",
    "auth_config = {\n",
    "    \"customJWTAuthorizer\": { \n",
    "        \"allowedClients\": [client_id],  # Client MUST match with the ClientId configured in Cognito. Example: 7rfbikfsm51j2fpaggacgng84g\n",
    "        \"discoveryUrl\": cognito_discovery_url\n",
    "    }\n",
    "}\n",
    "create_response = gateway_client.create_gateway(name='DemoGWforLambda',\n",
    "    roleArn = agentcore_gateway_iam_role['Role']['Arn'], # The IAM Role must have permissions to create/list/get/delete Gateway \n",
    "    protocolType='MCP',\n",
    "    authorizerType='CUSTOM_JWT',\n",
    "    authorizerConfiguration=auth_config, \n",
    "    description='AgentCore Gateway with AWS Lambda target type'\n",
    ")\n",
    "print(create_response)\n",
    "# Retrieve the GatewayID used for GatewayTarget creation\n",
    "gatewayID = create_response[\"gatewayId\"]\n",
    "gatewayURL = create_response[\"gatewayUrl\"]\n",
    "print(gatewayID)"
   ]
  },
  {
   "cell_type": "markdown",
   "id": "94dc57be-e50e-4997-a440-3bcf582d09bc",
   "metadata": {},
   "source": [
    "#### Create an AWS Lambda target and transform into MCP tools \n",
    "\n",
    "<font color=\"red\"> **NOTE: Replace lambda function ARN with the one noted above** </font>"
   ]
  },
  {
   "cell_type": "code",
   "execution_count": null,
   "id": "8c1474da-cdd6-4dbd-84e7-3fdad018647d",
   "metadata": {},
   "outputs": [],
   "source": [
    "# Replace the AWS Lambda function ARN below\n",
    "lambda_target_config = {\n",
    "    \"mcp\": {\n",
    "        \"lambda\": {\n",
    "            \"lambdaArn\": \"<Lambda_ARN_noted_above>\", # Replace this with your AWS Lambda function ARN noted above\n",
    "            \"toolSchema\": {\n",
    "                \"inlinePayload\": [\n",
    "                    {\n",
    "                        \"name\": \"get_order_tool\",\n",
    "                        \"description\": \"tool to get the order\",\n",
    "                        \"inputSchema\": {\n",
    "                            \"type\": \"object\",\n",
    "                            \"properties\": {\n",
    "                                \"orderId\": {\n",
    "                                    \"type\": \"string\"\n",
    "                                }\n",
    "                            },\n",
    "                            \"required\": [\"orderId\"]\n",
    "                        }\n",
    "                    },                    \n",
    "                    {\n",
    "                        \"name\": \"update_order_tool\",\n",
    "                        \"description\": \"tool to update the orderId\",\n",
    "                        \"inputSchema\": {\n",
    "                            \"type\": \"object\",\n",
    "                            \"properties\": {\n",
    "                                \"orderId\": {\n",
    "                                    \"type\": \"string\"\n",
    "                                }\n",
    "                            },\n",
    "                            \"required\": [\"orderId\"]\n",
    "                        }\n",
    "                    }\n",
    "                ]\n",
    "            }\n",
    "        }\n",
    "    }\n",
    "}\n",
    "\n",
    "credential_config = [ \n",
    "    {\n",
    "        \"credentialProviderType\" : \"GATEWAY_IAM_ROLE\"\n",
    "    }\n",
    "]\n",
    "targetname='LambdaUsingSDK'\n",
    "response = gateway_client.create_gateway_target(\n",
    "    gatewayIdentifier=gatewayID,\n",
    "    name=targetname,\n",
    "    description='Lambda Target using SDK',\n",
    "    targetConfiguration=lambda_target_config,\n",
    "    credentialProviderConfigurations=credential_config)"
   ]
  },
  {
   "cell_type": "markdown",
   "id": "1f22fd64",
   "metadata": {},
   "source": [
    "## Configuring AgentCore Gateway Observability with Amazon CloudWatch"
   ]
  },
  {
   "cell_type": "markdown",
   "id": "1705da2f",
   "metadata": {},
   "source": [
    "### Configuration AgentCore Gateway Application Logs\n",
    "\n",
    "Scenarios where error logging will show in AgentCore Gateway application logs:\n",
    "- MCP Request tools/call for a Gateway where the execution role does not trust bedrock-agentcore\n",
    "- MCP Request tools/call on a gateway where execution role does not have correct permissions to the CredentialProviderArn associated to a target\n",
    "- MCP Request tools/call on a gateway where execution role does not have correct permissions to invoke the lambda function target\n",
    "- MCP Request has missing authorization header\n",
    "- MCP Request has an invalid bearer token invalid (e.i expired, invalid, client id not allowed)\n",
    "- MCP Request tools/call to a tool that does not exist"
   ]
  },
  {
   "cell_type": "markdown",
   "id": "b3b4a6d1",
   "metadata": {},
   "source": [
    "#### Step 0: Create new log group for vended log delivery\n",
    "\n",
    "**Note down the CloudWatch log group name**"
   ]
  },
  {
   "cell_type": "code",
   "execution_count": null,
   "id": "2332ec11",
   "metadata": {},
   "outputs": [],
   "source": [
    "import boto3\n",
    "\n",
    "# Initialize CloudWatch Logs client\n",
    "logs_client = boto3.client('logs', region_name=REGION)\n",
    "sts_client = boto3.client('sts', region_name=REGION)\n",
    "\n",
    "cloudwatch_log_group = \"\"\n",
    "\n",
    "# Define log group name\n",
    "log_group_name = '/aws/vendedlogs/bedrock-agentcore/gateway/APPLICATION_LOGS/' + gatewayID\n",
    "# Get AWS account ID\n",
    "account_id = sts_client.get_caller_identity()['Account']\n",
    "log_group_arn = f\"arn:aws:logs:{REGION}:{account_id}:log-group:{log_group_name}:*\"\n",
    "print(f\"Log Group ARN (constructed): {log_group_arn}\")\n",
    "\n",
    "try:\n",
    "    # Create log group\n",
    "    logs_client.create_log_group(logGroupName=log_group_name)\n",
    "    print(f\"NOTE DOWN:Successfully created log group: {log_group_name}\")\n",
    "    cloudwatch_log_group = log_group_name\n",
    "    \n",
    "except logs_client.exceptions.ResourceAlreadyExistsException:\n",
    "    print(f\"Log group {log_group_name} already exists\")\n",
    "except Exception as e:\n",
    "    print(f\"Error creating log group: {e}\")\n"
   ]
  },
  {
   "cell_type": "markdown",
   "id": "39301a94",
   "metadata": {},
   "source": [
    "#### Step 1: Create delivery source for logs"
   ]
  },
  {
   "cell_type": "code",
   "execution_count": null,
   "id": "4a01bd01",
   "metadata": {},
   "outputs": [],
   "source": [
    "# Use PutDeliverySource to create a delivery source, which is a logical object that represents the resource that is actually sending the logs.\n",
    "gateway_name=create_response[\"name\"]\n",
    "print(gateway_name)\n",
    "delivery_source_response = logs_client.put_delivery_source(\n",
    "            name = f\"{gateway_name}-logs-source\",\n",
    "            logType='APPLICATION_LOGS',  # Specific to Bedrock\n",
    "            resourceArn=create_response[\"gatewayArn\"]\n",
    "        )"
   ]
  },
  {
   "cell_type": "markdown",
   "id": "94833d7d",
   "metadata": {},
   "source": [
    "#### Step 2: Create delivery destinations "
   ]
  },
  {
   "cell_type": "code",
   "execution_count": null,
   "id": "784806d8",
   "metadata": {},
   "outputs": [],
   "source": [
    "# A delivery destination can represent a log group in CloudWatch Logs, an Amazon S3 bucket, a delivery stream in Firehose, or X-Ray. Here we are using CloudWatch log group.\n",
    "\n",
    "delivery_destination_response = logs_client.put_delivery_destination(\n",
    "            name='bedrock-agentcore-gw-destination',\n",
    "            deliveryDestinationType='CWL',\n",
    "            deliveryDestinationConfiguration = { \n",
    "              \"destinationResourceArn\": log_group_arn\n",
    "           },\n",
    "            outputFormat= \"json\",\n",
    "        )\n",
    "print(delivery_destination_response['deliveryDestination']['arn'])"
   ]
  },
  {
   "cell_type": "markdown",
   "id": "786f8a22",
   "metadata": {},
   "source": [
    "#### Step 3: Create logs delivery (connect sources to destinations)"
   ]
  },
  {
   "cell_type": "code",
   "execution_count": null,
   "id": "78262dda",
   "metadata": {},
   "outputs": [],
   "source": [
    "# Create a logs delivery by pairing the source and destination. A delivery is a connection between a logical delivery source and a logical delivery destination that you have already created.\n",
    "delivery_response = logs_client.create_delivery(\n",
    "            deliverySourceName=f\"{gateway_name}-logs-source\",\n",
    "            deliveryDestinationArn=delivery_destination_response['deliveryDestination']['arn'],\n",
    "            recordFields=['resource_arn','event_timestamp','body','account_id','timestamp','trace_id','span_id','request_id','gateway_id'],\n",
    ")"
   ]
  },
  {
   "cell_type": "code",
   "execution_count": null,
   "id": "2b3861ec",
   "metadata": {},
   "outputs": [],
   "source": [
    "import time\n",
    "time.sleep(10)"
   ]
  },
  {
   "cell_type": "markdown",
   "id": "f09979a5",
   "metadata": {},
   "source": [
    "#### Step 4: Check AWS Console \n",
    "\n",
    "* Head to [Amazon Bedrock AgentCore](https://console.aws.amazon.com/bedrock-agentcore/) service on AWS Console.\n",
    "* Ensure that the AWS region is correct.\n",
    "* Select **Gateways**.\n",
    "* Select the Gateway you created.\n",
    "* Check **Log deliveries and tracing** to see an entry\n",
    "\n",
    "![Log deliveries](images/24-amazon-bedrock-agentcore-gw.png)"
   ]
  },
  {
   "cell_type": "markdown",
   "id": "817c46f9",
   "metadata": {},
   "source": [
    "### Vended Logs: Invoking tools/list operation on AgentCore Gateway"
   ]
  },
  {
   "cell_type": "markdown",
   "id": "513d674e",
   "metadata": {},
   "source": [
    "#### Obtaining token for inbound Gateway Authentication"
   ]
  },
  {
   "cell_type": "code",
   "execution_count": null,
   "id": "4be98ba1",
   "metadata": {},
   "outputs": [],
   "source": [
    "print(\"Requesting the access token from Amazon Cognito authorizer...May fail for some time till the domain name propogation completes\")\n",
    "token_response = utils.get_token(user_pool_id, client_id, client_secret,scopeString,REGION)\n",
    "token = token_response[\"access_token\"]\n",
    "print(\"Token response:\", token)"
   ]
  },
  {
   "cell_type": "markdown",
   "id": "fcfcd677",
   "metadata": {},
   "source": [
    "#### Enable Live Tailing in Amazon CloudWatch"
   ]
  },
  {
   "cell_type": "code",
   "execution_count": null,
   "id": "8326b2a5",
   "metadata": {},
   "outputs": [],
   "source": [
    "print(cloudwatch_log_group)"
   ]
  },
  {
   "cell_type": "markdown",
   "id": "c70e5552",
   "metadata": {},
   "source": [
    "* Head to **[Amazon CloudWatch console](https://console.aws.amazon.com/cloudwatch/home)**\n",
    "* Navigate to **Log Groups**\n",
    "* Select specific log group from above output: for example **/aws/vendedlogs/bedrock-agentcore/gateway/APPLICATION_LOGS/gatewayID**\n",
    "* Click on **Start tailing**\n",
    "\n",
    "<img src=\"images/2-cloudwatch-live-tail.png\" width=\"60%\">"
   ]
  },
  {
   "cell_type": "markdown",
   "id": "2d1adf36",
   "metadata": {},
   "source": [
    "#### Invoking tools/list on AgentCore Gateway"
   ]
  },
  {
   "cell_type": "code",
   "execution_count": null,
   "id": "7ce9a886",
   "metadata": {},
   "outputs": [],
   "source": [
    "from mcp.client.streamable_http import streamablehttp_client\n",
    "from strands.tools.mcp.mcp_client import MCPClient\n",
    "\n",
    "def create_streamable_http_transport():\n",
    "    return streamablehttp_client(gatewayURL,headers={\"Authorization\": f\"Bearer {token}\"})\n",
    "\n",
    "client = MCPClient(create_streamable_http_transport)\n",
    "\n",
    "with client:\n",
    "    # Retrieve all tool capabilities from the gateway\n",
    "    tools = client.list_tools_sync()\n",
    "    for tool in tools:\n",
    "        print(tool.tool_name)"
   ]
  },
  {
   "cell_type": "markdown",
   "id": "1086be30",
   "metadata": {},
   "source": [
    "#### What happens in the backend? \n",
    "\n",
    "**There will be 8 log messages corresponding to the operation above with 3 Trace IDs, 3 Request IDs and 3 Span IDs.** \n",
    "\n",
    "**Flow Sequence from the Vended logs showing details such as`trace_id`, `span_id`,`request_id`.** <br/>\n",
    "**You can also see the `gateway_id`.**\n",
    "\n",
    "**Trace ID:** Represents the overall transaction or agent workflow—covering the full flow of processing a user’s conversation, orchestration, and tool invocations\n",
    "\n",
    "**Request ID:** Identifies a specific request made to the AgentCore gateway within the context of a trace. Multiple request IDs can exist within a trace, reflecting different API calls or gateway events during the transaction.\n",
    "\n",
    "**Span ID:** Marks a specific action or operation performed for a particular request. Each request may generate several spans, each with its own span ID, representing granular steps such as tool calls or memory events within the parent request\n",
    "\n",
    "**Sequence showing MCP handshake, list tools request:**\n",
    "\n",
    "There are 3 trace ids with 3 request and span ids:\n",
    "\n",
    "<font color=\"blue\">Trace ID: 1 -> MCP Handshake <br/></font>\n",
    "<font color=\"purple\">Trace ID: 2 -> Readiness after Handshake - notifications/initialized <br/></font>\n",
    "<font color=\"green\">Trace ID: 3 -> Tools/list Request / Response<br/></font>\n",
    "\n",
    "![overall_sequence](images/20-traceids-sequence.png)\n",
    "\n",
    "\n",
    "**Trace ID: 68eb191773c47c5f6babe5cb4f81bd69**\n",
    "\n",
    "* <font color=\"blue\">Client → Gateway: \"Hi, I'm client MCP v0.1.0, can we talk using protocol version 2025-06-18\"</font> <br/><br/>\n",
    "<img src=\"images/3-sequence1.png\" width=\"60%\">\n",
    "* <font color=\"blue\">Gateway → Client: \"Yes, I can talk to you.\"</font> <br/><br/>\n",
    "<img src=\"images/4-sequence2.png\" width=\"60%\">\n",
    "* <font color=\"blue\"> Gateway → Client: \"This is my info\" </font> <br/><br/>\n",
    "<img src=\"images/5-sequence3.png\" width=\"60%\">\n",
    "\n",
    "**Trace ID: 68eb1917268b63ef1290ed317254df8c**\n",
    "* <font color=\"purple\">Client → Gateway: \"After successful initialization, the client sends a notification to indicate it’s ready:\"</font> <br/><br/>\n",
    "<img src=\"images/6-sequence4.png\" width=\"60%\">\n",
    "* <font color=\"purple\">Gateway → Client: \"Received notification about system being ready\"</font> <br/><br/>\n",
    "<img src=\"images/7-sequence5.png\" width=\"60%\">\n",
    "\n",
    "**Trace ID: 68eb19177631f5357c06be8c182a99df**\n",
    "* <font color=\"green\">Client → Gateway: \"Calling list/tools\"</font> <br/><br/>\n",
    "<img src=\"images/8-sequence6.png\" width=\"60%\">\n",
    "* <font color=\"green\">Gateway → Client: \"Received tools list request\"</font> <br/><br/>\n",
    "<img src=\"images/9-sequence7.png\" width=\"60%\">\n",
    "* <font color=\"green\">Gateway → Client: \"Here are your tools: get_order_tool and update_order_tool\"</font> (Complete Response)<br/><br/>\n",
    "<img src=\"images/10-sequence8.png\" width=\"60%\">"
   ]
  },
  {
   "cell_type": "markdown",
   "id": "144dbf9b",
   "metadata": {},
   "source": [
    "### Configure tracing delivery to CloudWatch using the console"
   ]
  },
  {
   "cell_type": "markdown",
   "id": "16991867",
   "metadata": {},
   "source": [
    "This section describes how to enable trace delivery to CloudWatch to track the flow of interactions through your application allowing you to visualize requests, identify performance bottlenecks, troubleshoot errors, and optimize performance."
   ]
  },
  {
   "cell_type": "markdown",
   "id": "153ee041",
   "metadata": {},
   "source": [
    "#### Step 1: Create delivery source for traces"
   ]
  },
  {
   "cell_type": "code",
   "execution_count": null,
   "id": "00e41a1d",
   "metadata": {},
   "outputs": [],
   "source": [
    "traces_source_response = logs_client.put_delivery_source(\n",
    "    name=f\"{gateway_name}-traces-source\", \n",
    "    logType=\"TRACES\",\n",
    "    resourceArn=create_response[\"gatewayArn\"]\n",
    ")"
   ]
  },
  {
   "cell_type": "markdown",
   "id": "01d9e2e7",
   "metadata": {},
   "source": [
    "#### Step 2: Create delivery destinations "
   ]
  },
  {
   "cell_type": "code",
   "execution_count": null,
   "id": "57cf04ea",
   "metadata": {},
   "outputs": [],
   "source": [
    "# A delivery destination can represent a log group in CloudWatch Logs, an Amazon S3 bucket, a delivery stream in Firehose, or X-Ray. Here we are using CloudWatch log group.\n",
    "\n",
    "traces_destination_response = logs_client.put_delivery_destination(\n",
    "            name=f\"{gateway_name}-traces-destination\",\n",
    "            deliveryDestinationType='XRAY'\n",
    "        )\n",
    "print(traces_destination_response['deliveryDestination']['arn'])"
   ]
  },
  {
   "cell_type": "markdown",
   "id": "50f91a35",
   "metadata": {},
   "source": [
    "#### Step 3: Create traces delivery (connect sources to destinations)"
   ]
  },
  {
   "cell_type": "code",
   "execution_count": null,
   "id": "2af2ea91",
   "metadata": {},
   "outputs": [],
   "source": [
    "# Create a logs delivery by pairing the source and destination. A delivery is a connection between a logical delivery source and a logical delivery destination that you have already created.\n",
    "delivery_response = logs_client.create_delivery(\n",
    "            deliverySourceName=f\"{gateway_name}-traces-source\",\n",
    "            deliveryDestinationArn=traces_destination_response['deliveryDestination']['arn']\n",
    ")"
   ]
  },
  {
   "cell_type": "code",
   "execution_count": null,
   "id": "8c528aa6",
   "metadata": {},
   "outputs": [],
   "source": [
    "import time\n",
    "time.sleep(10)"
   ]
  },
  {
   "cell_type": "markdown",
   "id": "be393460",
   "metadata": {},
   "source": [
    "#### Step 4: Check AWS Console \n",
    "\n",
    "* Head to [Amazon Bedrock AgentCore](https://console.aws.amazon.com/bedrock-agentcore/) service on AWS Console.\n",
    "* Ensure that the AWS region is correct.\n",
    "* Select **Gateways**.\n",
    "* Select the Gateway you created.\n",
    "* Check **Tracing** to verify that it is `Enabled`\n",
    "\n",
    "![enable-tracing](images/26-enable-tracing.png)"
   ]
  },
  {
   "cell_type": "markdown",
   "id": "84862289",
   "metadata": {},
   "source": [
    "### Traces in GenAI Observability Dashboard - Gateway Level"
   ]
  },
  {
   "cell_type": "markdown",
   "id": "7eaf6d76",
   "metadata": {},
   "source": [
    "#### Invoking tools/list operation on AgentCore Gateway"
   ]
  },
  {
   "cell_type": "code",
   "execution_count": null,
   "id": "1312791e",
   "metadata": {},
   "outputs": [],
   "source": [
    "from mcp.client.streamable_http import streamablehttp_client\n",
    "from strands.tools.mcp.mcp_client import MCPClient\n",
    "\n",
    "def create_streamable_http_transport():\n",
    "    return streamablehttp_client(gatewayURL, headers={\"Authorization\": f\"Bearer {token}\"})\n",
    "\n",
    "client = MCPClient(create_streamable_http_transport)\n",
    "\n",
    "# Define specific tool parameters\n",
    "TOOL_NAME = \"LambdaUsingSDK___get_order_tool\"\n",
    "ORDER_ID = \"123\"\n",
    "\n",
    "with client:\n",
    "    try:\n",
    "        # Call the get_order_tool\n",
    "        result = client.call_tool_sync(\n",
    "            tool_use_id=\"get-order-id-123-call-1\",\n",
    "            name=TOOL_NAME,\n",
    "            arguments={\"orderId\": ORDER_ID}\n",
    "        )\n",
    "        \n",
    "        # Print the tool's response\n",
    "        print(f\"\\nGet Order Tool Response for Order ID {ORDER_ID}:\")\n",
    "        print(f\"Content: {result['content'][0]['text']}\")\n",
    "                \n",
    "    except Exception as e:\n",
    "        print(f\"Error occurred while calling {TOOL_NAME}: {str(e)}\")"
   ]
  },
  {
   "cell_type": "markdown",
   "id": "7f05b91e",
   "metadata": {},
   "source": [
    "#### Amazon CloudWatch Gateway Traces and Spans\n",
    "\n",
    "<font color=\"red\"> **NOTE: It takes atleast 2-5 min for the Gateway and Traces to be reflected in the GenAI Observability Dashboard below.** </font>"
   ]
  },
  {
   "cell_type": "code",
   "execution_count": null,
   "id": "d2d2d10f",
   "metadata": {},
   "outputs": [],
   "source": [
    "print(cloudwatch_log_group)"
   ]
  },
  {
   "cell_type": "markdown",
   "id": "ec166735",
   "metadata": {},
   "source": [
    "* Head to **[Amazon CloudWatch console](https://console.aws.amazon.com/cloudwatch/home)**\n",
    "* Navigate to **Log Groups**\n",
    "* Select specific log group from above output: for example **/aws/vendedlogs/bedrock-agentcore/gateway/APPLICATION_LOGS/gatewayID**\n",
    "* Select `Search all log streams`\n",
    "* In the CloudWatch logs, search for `LambdaUsingSDK___get_order_tool` keyword in the logs. <br/>\n",
    "* Identify and note down the Trace ID corresponding to operation shown in the screenshot below.\n",
    "\n",
    "For example: **68ed6dc01c0556e2735177ed3794422a**\n",
    "\n",
    "![genai-cw-logs](images/12-cloudwatch-logs-mcptool-2.png)\n",
    "\n",
    "* Navigate to **GenAI Observability** -> **Bedrock AgentCore**\n",
    "* Select **Gateways**\n",
    "\n",
    "![genai-obs-gw](images/11-cloudwatch-gateways.png)\n",
    "\n",
    "* Select **Traces** and search for the Trace ID: **68ed6dc01c0556e2735177ed3794422a**.\n",
    "* Click on **Trace ID** to view Spans and Latency. In this particular example, you can see that `InvokeTool` operation took 580ms and average span latency is 290ms. \n",
    "\n",
    "![genai-obs-traces](images/13-cloudwatch-genai-traces-span.png)\n",
    "\n",
    "**Note:You may need to adjust the Time Window on upper right hand corner accordingly if you dont see Traces.**\n",
    "\n",
    "![timer-window](images/25-bedrock-timewindow.png)\n",
    "\n",
    "* Scroll down further in the trace to check out `span metadata` for more details: <br/>\n",
    "\n",
    "   `kind:SERVER` - tracks the overall execution details, tool invoked, gateway details, AWS request ID, trace and span ID.<br/>\n",
    "   `kind:CLIENT` - covers the specific target that was invoked and details around it like target type, target execution time, target execution start and end times, etc.<br/>\n",
    "\n",
    "  The screenshot below shows that the tool execution took 378ms (`execute_tool_latency_ms`) and the time the gateway took barring tool execution is 152 ms (`overhead_latency`) under `AgentCore.Gateway.InvokeTool`.\n",
    "\n",
    "![span-metadata](images/16-span-metadata.png)"
   ]
  },
  {
   "cell_type": "markdown",
   "id": "8156a0e7",
   "metadata": {},
   "source": [
    "### Using Amazon CloudWatch for detecting root cause of issues \n",
    "\n",
    "**Scenario:** Sending invalid token to the gateway and checking the logs and spans."
   ]
  },
  {
   "cell_type": "markdown",
   "id": "88affef9",
   "metadata": {},
   "source": [
    "#### Setting an invalid token"
   ]
  },
  {
   "cell_type": "code",
   "execution_count": null,
   "id": "f5713318",
   "metadata": {},
   "outputs": [],
   "source": [
    "token1 = \"12345\""
   ]
  },
  {
   "cell_type": "code",
   "execution_count": null,
   "id": "500ab412",
   "metadata": {},
   "outputs": [],
   "source": [
    "print(cloudwatch_log_group)"
   ]
  },
  {
   "cell_type": "markdown",
   "id": "ae7b3a00",
   "metadata": {},
   "source": [
    "#### Start Live Tail of CloudWatch Logs\n",
    "\n",
    "* Head to **[Amazon CloudWatch console](https://console.aws.amazon.com/cloudwatch/home)**\n",
    "* Navigate to **Log Groups**\n",
    "* Select specific log group from above output: for example **/aws/vendedlogs/bedrock-agentcore/gateway/APPLICATION_LOGS/gatewayID**\n",
    "* Click on **Start tailing**\n",
    "\n",
    "![cloudwatch_tail](images/2-cloudwatch-live-tail.png)"
   ]
  },
  {
   "cell_type": "markdown",
   "id": "68731b6b",
   "metadata": {},
   "source": [
    "#### Invoking specific gateway tool with invalid token"
   ]
  },
  {
   "cell_type": "code",
   "execution_count": null,
   "id": "c1754667",
   "metadata": {},
   "outputs": [],
   "source": [
    "from mcp.client.streamable_http import streamablehttp_client\n",
    "from strands.tools.mcp.mcp_client import MCPClient\n",
    "\n",
    "def create_streamable_http_transport():\n",
    "    return streamablehttp_client(gatewayURL, headers={\"Authorization\": f\"Bearer {token1}\"})\n",
    "\n",
    "client = MCPClient(create_streamable_http_transport)\n",
    "\n",
    "# Define specific tool parameters\n",
    "TOOL_NAME = \"LambdaUsingSDK___get_order_tool\"\n",
    "ORDER_ID = \"123\"\n",
    "\n",
    "with client:\n",
    "    try:\n",
    "        # Call the get_order_tool\n",
    "        result = client.call_tool_sync(\n",
    "            tool_use_id=\"get-order-id-123-call-1\",\n",
    "            name=TOOL_NAME,\n",
    "            arguments={\"orderId\": ORDER_ID}\n",
    "        )\n",
    "        \n",
    "        # Print the tool's response\n",
    "        print(f\"\\nGet Order Tool Response for Order ID {ORDER_ID}:\")\n",
    "        print(f\"Content: {result['content'][0]['text']}\")\n",
    "                \n",
    "    except Exception as e:\n",
    "        print(f\"Error occurred while calling {TOOL_NAME}: {str(e)}\")"
   ]
  },
  {
   "cell_type": "markdown",
   "id": "d3a0fd9a",
   "metadata": {},
   "source": [
    "#### More information in Amazon CloudWatch Logs\n",
    "\n",
    "The generated exception **does not provide useful information about the root cause of the issue**:\n",
    "\n",
    "    raise MCPClientInitializationError(\"the client initialization failed\") from e\n",
    "    strands.types.exceptions.MCPClientInitializationError: the client initialization failed\n",
    "\n",
    "\n",
    "To understand the root cause behind the exception, check the CloudWatch logs.\n",
    "\n",
    "![rootcause](images/17-rootcause.png)"
   ]
  },
  {
   "cell_type": "markdown",
   "id": "6a98d95d",
   "metadata": {},
   "source": [
    "#### More information in Traces and Spans\n",
    "\n",
    "* Note down the value of `trace_id` from the above logs. \n",
    "* In CloudWatch console, navigate to **GenAI Observability** -> **Bedrock AgentCore**\n",
    "* Select **Gateways**\n",
    "* Select **Traces** and search for the Trace ID: **68ee6edf04de45005c702392328eb065**.\n",
    "* You can find more details in the spans as shown in the screenshot below.\n",
    "\n",
    "![troubleshooting-traces](images/18-troubleshooting-traces1.png)"
   ]
  },
  {
   "cell_type": "markdown",
   "id": "041f0384",
   "metadata": {},
   "source": [
    "### AgentCore Gateway CloudWatch Metrics"
   ]
  },
  {
   "cell_type": "markdown",
   "id": "19dc267b",
   "metadata": {},
   "source": [
    "* Head to **[Amazon CloudWatch console](https://console.aws.amazon.com/cloudwatch/home)**\n",
    "* Select **Metrics** -> **All metrics** \n",
    "* Select **AWS namespaces** -> **Bedrock-AgentCore**\n",
    "* Select **Method, Name, Operation, Protocol, Resource**.  For aggregration at Operation level, you can select **Method, Operation, Protocol, Resource**.\n",
    "* Select Metrics of choice to create a dashboard or to view values.\n",
    "\n",
    "![19-metrics](images/19-metrics.png)"
   ]
  },
  {
   "cell_type": "markdown",
   "id": "f4c3b18b",
   "metadata": {},
   "source": [
    "### Understanding Agent Traces - Strands Agent on AgentCore Runtime connecting to AgentCore Gateway"
   ]
  },
  {
   "cell_type": "markdown",
   "id": "e3e1f95b",
   "metadata": {},
   "source": [
    "#### Note down values for Required Variables below including double quotes"
   ]
  },
  {
   "cell_type": "code",
   "execution_count": null,
   "id": "d6824b23",
   "metadata": {},
   "outputs": [],
   "source": [
    "print('mcp_url: \"%s\"' % gatewayURL)\n",
    "print('user_pool_id: \"%s\"' % user_pool_id)\n",
    "print('client_id: \"%s\"' % client_id)\n",
    "print('client_secret: \"%s\"' % client_secret)\n",
    "print('scopeString: \"%s\"' % scopeString)\n",
    "token_endpoint = f\"https://{user_pool_id.replace('_', '')}.auth.{REGION}.amazoncognito.com/oauth2/token\"\n",
    "print('token_endpoint: \"%s\"' % token_endpoint)\n",
    "print('region: \"%s\"' % REGION)"
   ]
  },
  {
   "cell_type": "markdown",
   "id": "d78a88d7",
   "metadata": {},
   "source": [
    "#### Code for Bedrock Agent to be deployed via AgentCore Runtime\n",
    "\n",
    "<font color=\"red\"> Replace the values of **mcp_url**, **user_pool_id**, **client_id**, **client_secret**, **scopeString**, **token_endpoint** and **region** in the code.</font>\n",
    "\n",
    "This Python code below creates a Strands agent that connects to AWS Bedrock AgentCore Gateway to access and use external tools through the Model Context Protocol (MCP). The agent authenticates using AWS Cognito credentials, retrieves available tools from the gateway, and processes user queries by invoking those tools through a Claude language model."
   ]
  },
  {
   "cell_type": "code",
   "execution_count": null,
   "id": "8656f2e3",
   "metadata": {},
   "outputs": [],
   "source": [
    "%%writefile strands_agent_gateway.py\n",
    "from bedrock_agentcore.runtime import BedrockAgentCoreApp\n",
    "from datetime import datetime\n",
    "from strands import Agent, tool\n",
    "import logging\n",
    "from strands.models import BedrockModel\n",
    "from strands.tools import mcp\n",
    "from strands.tools.mcp.mcp_client import MCPClient\n",
    "from mcp.client.streamable_http import streamablehttp_client\n",
    "from bedrock_agentcore_starter_toolkit.operations.gateway.client import GatewayClient\n",
    "import os\n",
    "import time\n",
    "import functools\n",
    "import asyncio\n",
    "import json\n",
    "import argparse\n",
    "\n",
    "#### Substitute the values below with ones from above output:\n",
    "\n",
    "# GateWay URL:\n",
    "mcp_url = #<mcp_url> # Replace this. For example: \"https://1demogatewayforlambda-tpwablbixre.gateway.bedrock-agentcore.us-west-2.amazonaws.com/mcp\"\n",
    "# # Cognito parameters:\n",
    "user_pool_id =  #<user_pool_id> # Replace this. For example: \"us-west-2_CpyXraYjW\"\n",
    "client_id = #<client_id> # Replace this. For example: \"5ifm4heh1r3oa19r2mnngsvung\"\n",
    "client_secret =  #<client_secret> # Replace this. For example: \"kchfnio0inegso43jrc2js0ntgqc5ku2uplhd9v7vp0bo8sp1g0\"\n",
    "scopeString =  #<scopeString> # Replace this. For example: \"sample-agentcore-gateway-id/gateway:read sample-agentcore-gateway-id/gateway:write\"\n",
    "token_endpoint =  #<token_endpoint> # Replace this. For example: \"https://us-west-2_CpyXraYjW.auth.us-west-2.amazoncognito.com/oauth2/token\"\n",
    "region =  #<region> # Replace this. For example: \"us-west-2\"\n",
    "\n",
    "###########################################\n",
    "\n",
    "model_id = \"us.anthropic.claude-sonnet-4-20250514-v1:0\"\n",
    "bedrockmodel = BedrockModel(\n",
    "    inference_profile_id= model_id,\n",
    "    temperature=0,\n",
    "    streaming=True,\n",
    ")\n",
    "\n",
    "# Defining  client as our GatewayClient\n",
    "client = GatewayClient(region_name=region)\n",
    "client.logger.setLevel(logging.DEBUG)\n",
    "\n",
    "# Get token\n",
    "client_config = {\n",
    "    \"user_pool_id\": user_pool_id,\n",
    "    \"client_id\": client_id,\n",
    "    \"client_secret\": client_secret,\n",
    "    \"scope\": scopeString,\n",
    "    \"region\": region,\n",
    "    \"token_endpoint\": token_endpoint\n",
    "}\n",
    "\n",
    "token_response = client.get_access_token_for_cognito(client_config)\n",
    "access_token = token_response\n",
    "print(access_token)\n",
    "\n",
    "\n",
    "# Get Gateway tools\n",
    "def create_streamable_http_transport(mcp_url: str, access_token: str):\n",
    "    return streamablehttp_client(mcp_url, headers={\"Authorization\": f\"Bearer {access_token}\"})\n",
    "  \n",
    "def get_full_tools_list(client):\n",
    "    more_tools = True\n",
    "    tools = []\n",
    "    pagination_token = None\n",
    "    while more_tools:\n",
    "        tmp_tools = client.list_tools_sync(pagination_token=pagination_token)\n",
    "        tools.extend(tmp_tools)\n",
    "        if tmp_tools.pagination_token is None:\n",
    "            more_tools = False\n",
    "        else:\n",
    "            more_tools = True \n",
    "            pagination_token = tmp_tools.pagination_token\n",
    "    return tools\n",
    "\n",
    "def run_agent(mcp_url: str, access_token: str, user_message: str):\n",
    "    try:\n",
    "        mcp_client = MCPClient(lambda: create_streamable_http_transport(mcp_url, access_token))\n",
    "        #region=\"us-east-1\"\n",
    "        \n",
    "        with mcp_client:\n",
    "            tools = get_full_tools_list(mcp_client)\n",
    "            print(f\"Found the following tools: {[tool.tool_name for tool in tools]}\")\n",
    "            agent = Agent(model=bedrockmodel,tools=tools, callback_handler=None)\n",
    "            print(\"\\nThinking...\\n\")\n",
    "            print(user_message)\n",
    "            result = agent(user_message)        \n",
    "        return result            \n",
    "    except Exception as e:\n",
    "        print(f\"Error in run_agent: {e}\")\n",
    "        return {\"message\": f\"Error processing request: {str(e)}\"}\n",
    "        \n",
    "        \n",
    "# Define our app referencing the pre-built BedrockAgentCoreApp\n",
    "app = BedrockAgentCoreApp()\n",
    "\n",
    "@app.entrypoint\n",
    "def invoke(payload):\n",
    "    try:\n",
    "        \"\"\"Process user input and return a response\"\"\"\n",
    "        user_message = payload.get(\"prompt\", \"Hello\")\n",
    "\n",
    "        result = run_agent(mcp_url, access_token, user_message)\n",
    "        print(result)\n",
    "        return {\"result\": result.message}\n",
    "    except Exception as e:\n",
    "        return {\"result\": f\"Error: {str(e)}\"}\n",
    "\n",
    "if __name__ == \"__main__\":\n",
    "    app.run()"
   ]
  },
  {
   "cell_type": "code",
   "execution_count": null,
   "id": "ebffc8bf",
   "metadata": {},
   "outputs": [],
   "source": [
    "from bedrock_agentcore_starter_toolkit import Runtime\n",
    "from boto3.session import Session\n",
    "boto_session = Session()\n",
    "region = boto_session.region_name\n",
    "\n",
    "agentcore_runtime = Runtime()\n",
    "agent_name = \"strands_demo_agent\"\n",
    "response = agentcore_runtime.configure(\n",
    "    entrypoint=\"strands_agent_gateway.py\",\n",
    "    auto_create_execution_role=True,\n",
    "    auto_create_ecr=True,\n",
    "    requirements_file=\"requirements.txt\",\n",
    "    region=region,\n",
    "    agent_name=agent_name\n",
    ")\n",
    "response"
   ]
  },
  {
   "cell_type": "code",
   "execution_count": null,
   "id": "9fd8dce5",
   "metadata": {},
   "outputs": [],
   "source": [
    "launch_result = agentcore_runtime.launch()"
   ]
  },
  {
   "cell_type": "code",
   "execution_count": null,
   "id": "9573daff",
   "metadata": {},
   "outputs": [],
   "source": [
    "import time\n",
    "time.sleep(20)"
   ]
  },
  {
   "cell_type": "markdown",
   "id": "4941401e",
   "metadata": {},
   "source": [
    "#### If you see the error \"Memory is still provisioning (current status: CREATING). Short-term memory takes 30-90 seconds to activate.\", wait for a few more seconds before you retry."
   ]
  },
  {
   "cell_type": "code",
   "execution_count": null,
   "id": "ebefb448",
   "metadata": {},
   "outputs": [],
   "source": [
    "invoke_response = agentcore_runtime.invoke({\"prompt\": \"list all tools\"})\n",
    "invoke_response"
   ]
  },
  {
   "cell_type": "code",
   "execution_count": null,
   "id": "d6b0a63a",
   "metadata": {},
   "outputs": [],
   "source": [
    "invoke_response = agentcore_runtime.invoke({\"prompt\": \"Check the order information for order id 123\"})\n",
    "invoke_response"
   ]
  },
  {
   "cell_type": "markdown",
   "id": "9c0474a2",
   "metadata": {},
   "source": [
    "#### Check out the Traces in Amazon Cloudwatch - Agent Level\n",
    "\n",
    "* Head to **[Amazon CloudWatch console](https://console.aws.amazon.com/cloudwatch/home)** \n",
    "* Navigate to **GenAI Observability** -> **Bedrock AgentCore**\n",
    "* Select **Agents** -> **Traces**\n",
    "* There are **two traces**, one for each prompt (list/tools and another one for invoking specific tool). \n",
    "\n",
    "**Note:You may need to adjust the Time Window on upper right hand corner accordingly if you dont see Traces.**\n",
    "\n",
    "![timer-window](images/25-bedrock-timewindow.png)"
   ]
  },
  {
   "cell_type": "markdown",
   "id": "f37bd011",
   "metadata": {},
   "source": [
    "![Traces](images/14-traces-agentlevel-1.png)\n",
    "![Traces](images/27-invoketools-agent-span.png)"
   ]
  },
  {
   "cell_type": "markdown",
   "id": "5c036e0a",
   "metadata": {},
   "source": [
    "#### Check out the Spans for a Trace"
   ]
  },
  {
   "cell_type": "markdown",
   "id": "2ee99617",
   "metadata": {},
   "source": [
    "![Traces](images/15-spans-agent-1.png)"
   ]
  },
  {
   "cell_type": "markdown",
   "id": "d70f221e",
   "metadata": {},
   "source": [
    "## Observability with AWS Cloud Trail"
   ]
  },
  {
   "cell_type": "markdown",
   "id": "7cc2d994",
   "metadata": {},
   "source": [
    "#### Generating unique S3 bucket name for storing CloudTrail logs"
   ]
  },
  {
   "cell_type": "code",
   "execution_count": null,
   "id": "3fd726f7",
   "metadata": {},
   "outputs": [],
   "source": [
    "import boto3\n",
    "import uuid\n",
    "\n",
    "def generate_s3_bucket_name(base_name):\n",
    "    account_id = boto3.client('sts').get_caller_identity()['Account']\n",
    "    unique_id = uuid.uuid4().hex[:8]\n",
    "    return f\"{base_name}-{account_id}-{unique_id}\".lower()"
   ]
  },
  {
   "cell_type": "markdown",
   "id": "7e046df0",
   "metadata": {},
   "source": [
    "#### Function for creating S3 bucket"
   ]
  },
  {
   "cell_type": "code",
   "execution_count": null,
   "id": "50d7aa19",
   "metadata": {},
   "outputs": [],
   "source": [
    "import boto3\n",
    "from botocore.exceptions import ClientError\n",
    "\n",
    "def create_bucket(bucket_name, region):\n",
    "    try:\n",
    "        s3_client = boto3.client('s3', region_name=region)\n",
    "        if region == 'us-east-1':\n",
    "            s3_client.create_bucket(Bucket=bucket_name)\n",
    "        else:\n",
    "            location = {'LocationConstraint': region}\n",
    "            s3_client.create_bucket(Bucket=bucket_name, CreateBucketConfiguration=location)\n",
    "        print(f\"Bucket '{bucket_name}' created in region '{region}'\")\n",
    "        return True\n",
    "    except ClientError as e:\n",
    "        print(f\"Error creating bucket: {e}\")\n",
    "        return False\n"
   ]
  },
  {
   "cell_type": "markdown",
   "id": "1dd07986",
   "metadata": {},
   "source": [
    "#### Function for creating S3 bucket policy allowing CloudTrail to store logs"
   ]
  },
  {
   "cell_type": "code",
   "execution_count": null,
   "id": "8e8d9dc9",
   "metadata": {},
   "outputs": [],
   "source": [
    "import boto3\n",
    "import json\n",
    "\n",
    "def put_bucket_policy(bucket_name, account_id, region, trail_name):\n",
    "    s3_client = boto3.client('s3')\n",
    "    trail_arn = f\"arn:aws:cloudtrail:{region}:{account_id}:trail/{trail_name}\"\n",
    "    bucket_policy = {\n",
    "        \"Version\": \"2012-10-17\",\n",
    "        \"Statement\": [\n",
    "            {\n",
    "                \"Sid\": \"AWSCloudTrailAclCheck20150319\",\n",
    "                \"Effect\": \"Allow\",\n",
    "                \"Principal\": {\"Service\": \"cloudtrail.amazonaws.com\"},\n",
    "                \"Action\": \"s3:GetBucketAcl\",\n",
    "                \"Resource\": f\"arn:aws:s3:::{bucket_name}\",\n",
    "                \"Condition\": {\n",
    "                    \"StringEquals\": {\"aws:SourceArn\": trail_arn}\n",
    "                }\n",
    "            },\n",
    "            {\n",
    "                \"Sid\": \"AWSCloudTrailWrite20150319\",\n",
    "                \"Effect\": \"Allow\",\n",
    "                \"Principal\": {\"Service\": \"cloudtrail.amazonaws.com\"},\n",
    "                \"Action\": \"s3:PutObject\",\n",
    "                \"Resource\": f\"arn:aws:s3:::{bucket_name}/AWSLogs/{account_id}/*\",\n",
    "                \"Condition\": {\n",
    "                    \"StringEquals\": {\n",
    "                        \"s3:x-amz-acl\": \"bucket-owner-full-control\",\n",
    "                        \"aws:SourceArn\": trail_arn\n",
    "                    }\n",
    "                }\n",
    "            }\n",
    "        ]\n",
    "    }\n",
    "    policy_string = json.dumps(bucket_policy)\n",
    "    s3_client.put_bucket_policy(Bucket=bucket_name, Policy=policy_string)\n",
    "    print(f\"Bucket policy set for bucket '{bucket_name}' with trail '{trail_name}'.\")\n",
    "    "
   ]
  },
  {
   "cell_type": "markdown",
   "id": "d48ead02",
   "metadata": {},
   "source": [
    "#### Function for creating CloudWatch Log Group for CloudTrail logs"
   ]
  },
  {
   "cell_type": "code",
   "execution_count": null,
   "id": "1aaa0092",
   "metadata": {},
   "outputs": [],
   "source": [
    "def create_cloudwatch_log_group(log_group_name, account_id, region):\n",
    "    \"\"\"Create CloudWatch Logs group and CloudTrail log stream\"\"\"\n",
    "    logs_client = boto3.client('logs')\n",
    "    log_stream_name = f\"{account_id}_CloudTrail_{region}\"\n",
    "    \n",
    "    try:\n",
    "        # Create log group\n",
    "        logs_client.create_log_group(logGroupName=log_group_name)\n",
    "        print(f\"Created CloudWatch Logs group: {log_group_name}\")\n",
    "        \n",
    "        # Create log stream\n",
    "        logs_client.create_log_stream(\n",
    "            logGroupName=log_group_name,\n",
    "            logStreamName=log_stream_name\n",
    "        )\n",
    "        print(f\"Created CloudWatch Logs stream: {log_stream_name}\")\n",
    "        \n",
    "    except logs_client.exceptions.ResourceAlreadyExistsException as e:\n",
    "        if \"Log Group\" in str(e):\n",
    "            print(f\"CloudWatch Logs group already exists: {log_group_name}\")\n",
    "            # Try to create log stream even if group exists\n",
    "            try:\n",
    "                logs_client.create_log_stream(\n",
    "                    logGroupName=log_group_name,\n",
    "                    logStreamName=log_stream_name\n",
    "                )\n",
    "                print(f\"Created CloudWatch Logs stream: {log_stream_name}\")\n",
    "            except logs_client.exceptions.ResourceAlreadyExistsException:\n",
    "                print(f\"CloudWatch Logs stream already exists: {log_stream_name}\")\n",
    "        else:\n",
    "            print(f\"CloudWatch Logs stream already exists: {log_stream_name}\")\n",
    "\n",
    "# Usage in main code\n",
    "account_id = boto3.client('sts').get_caller_identity()['Account']\n",
    "trail_name = 'AgentCoreGatewayMgmtTrail'\n",
    "log_group_name = f\"/aws/cloudtrail/{trail_name}\"\n"
   ]
  },
  {
   "cell_type": "markdown",
   "id": "295aed08",
   "metadata": {},
   "source": [
    "#### Function for creating IAM role for CloudTrail"
   ]
  },
  {
   "cell_type": "code",
   "execution_count": null,
   "id": "389231ac",
   "metadata": {},
   "outputs": [],
   "source": [
    "def create_cloudwatch_role(role_name, account_id, region, log_group_name):\n",
    "    \"\"\"Create IAM role for CloudTrail to CloudWatch Logs\"\"\"\n",
    "    iam = boto3.client('iam')\n",
    "    \n",
    "    # Trust policy for CloudTrail\n",
    "    trust_policy = {\n",
    "        \"Version\": \"2012-10-17\",\n",
    "        \"Statement\": [{\n",
    "            \"Effect\": \"Allow\",\n",
    "            \"Principal\": {\"Service\": \"cloudtrail.amazonaws.com\"},\n",
    "            \"Action\": \"sts:AssumeRole\"\n",
    "        }]\n",
    "    }\n",
    "    \n",
    "    # CloudWatch Logs policy with specific log group name\n",
    "    role_policy = {\n",
    "        \"Version\": \"2012-10-17\",\n",
    "        \"Statement\": [\n",
    "            {\n",
    "                \"Sid\": \"AWSCloudTrailCreateLogStream2014110\",\n",
    "                \"Effect\": \"Allow\",\n",
    "                \"Action\": [\n",
    "                    \"logs:CreateLogStream\"\n",
    "                ],\n",
    "                \"Resource\": [\n",
    "                    f\"arn:aws:logs:{region}:{account_id}:log-group:{log_group_name}:log-stream:{account_id}_CloudTrail_{region}*\"\n",
    "                ]\n",
    "            },\n",
    "            {\n",
    "                \"Sid\": \"AWSCloudTrailPutLogEvents20141101\",\n",
    "                \"Effect\": \"Allow\",\n",
    "                \"Action\": [\n",
    "                    \"logs:PutLogEvents\"\n",
    "                ],\n",
    "                \"Resource\": [\n",
    "                    f\"arn:aws:logs:{region}:{account_id}:log-group:{log_group_name}:log-stream:{account_id}_CloudTrail_{region}*\"\n",
    "                ]\n",
    "            }\n",
    "        ]\n",
    "    }\n",
    "    \n",
    "    try:\n",
    "        # Create the role\n",
    "        role = iam.create_role(\n",
    "            RoleName=role_name,\n",
    "            AssumeRolePolicyDocument=json.dumps(trust_policy)\n",
    "        )\n",
    "        \n",
    "        # Attach the policy\n",
    "        iam.put_role_policy(\n",
    "            RoleName=role_name,\n",
    "            PolicyName=f\"{role_name}-policy\",\n",
    "            PolicyDocument=json.dumps(role_policy)\n",
    "        )\n",
    "        \n",
    "        # Wait briefly for role to be available\n",
    "        import time\n",
    "        time.sleep(5)\n",
    "        \n",
    "        return role['Role']['Arn']\n",
    "    except iam.exceptions.EntityAlreadyExistsException:\n",
    "        return iam.get_role(RoleName=role_name)['Role']['Arn']\n"
   ]
  },
  {
   "cell_type": "code",
   "execution_count": null,
   "id": "e884a96a",
   "metadata": {},
   "outputs": [],
   "source": [
    "account_id = boto3.client('sts').get_caller_identity()['Account']\n",
    "trail_name = 'AgentCoreGatewayMgmtTrail'\n",
    "role_name = f\"CloudTrail-{trail_name}-{REGION}\"\n",
    "print(role_name)\n",
    "log_group_name = f\"/aws/cloudtrail/{trail_name}\"\n",
    "print(log_group_name)\n",
    "\n",
    "#Creating CloudWatchRole\n",
    "cloudwatch_role_arn = create_cloudwatch_role(role_name, account_id, REGION, log_group_name)\n",
    "print(cloudwatch_role_arn)"
   ]
  },
  {
   "cell_type": "markdown",
   "id": "fe0d26fe",
   "metadata": {},
   "source": [
    "#### Allowing time for IAM role to propagate"
   ]
  },
  {
   "cell_type": "code",
   "execution_count": null,
   "id": "e4d8d7fe",
   "metadata": {},
   "outputs": [],
   "source": [
    "import time\n",
    "time.sleep(20)"
   ]
  },
  {
   "cell_type": "markdown",
   "id": "a6d02703",
   "metadata": {},
   "source": [
    "#### Creating S3 bucket and CloudWatch Log Group"
   ]
  },
  {
   "cell_type": "code",
   "execution_count": null,
   "id": "0e7937d9",
   "metadata": {},
   "outputs": [],
   "source": [
    "import boto3\n",
    "\n",
    "# Create S3 bucket for CloudTrail logs\n",
    "s3_bucket_name = generate_s3_bucket_name(\"agentcore-gateway\")\n",
    "print(s3_bucket_name)\n",
    "create_bucket(s3_bucket_name, REGION)\n",
    "put_bucket_policy(s3_bucket_name, account_id, REGION, trail_name)\n",
    "\n",
    "# Create CloudWatch Logs group\n",
    "create_cloudwatch_log_group(log_group_name, account_id, REGION)"
   ]
  },
  {
   "cell_type": "code",
   "execution_count": null,
   "id": "43691059",
   "metadata": {},
   "outputs": [],
   "source": [
    "import time\n",
    "time.sleep(20)"
   ]
  },
  {
   "cell_type": "markdown",
   "id": "a6cc3c42",
   "metadata": {},
   "source": [
    "#### Creating CloudTrail for logging Management Events for AgentCore Gateway"
   ]
  },
  {
   "cell_type": "code",
   "execution_count": null,
   "id": "e735cece",
   "metadata": {},
   "outputs": [],
   "source": [
    "# Creating cloudtrail\n",
    "cloudtrail_client = boto3.client('cloudtrail', region_name=REGION)\n",
    "\n",
    "# Create the trail\n",
    "response = cloudtrail_client.create_trail(\n",
    "    Name=trail_name,\n",
    "    S3BucketName=s3_bucket_name,\n",
    "    CloudWatchLogsLogGroupArn=f\"arn:aws:logs:{REGION}:{account_id}:log-group:{log_group_name}:*\",\n",
    "    CloudWatchLogsRoleArn=cloudwatch_role_arn\n",
    ")\n",
    "\n",
    "# Define advanced event selector to only include management events for AgentCore Gateway\n",
    "advanced_event_selectors = [\n",
    "    {\n",
    "        'Name': 'AgentCoreGatewayManagementEvents',\n",
    "        'FieldSelectors': [\n",
    "            {\n",
    "                'Field': 'eventCategory',\n",
    "                'Equals': ['Management']\n",
    "            }\n",
    "        ]\n",
    "    }\n",
    "]\n",
    "\n",
    "# Update the trail to use the advanced event selector\n",
    "cloudtrail_client.put_event_selectors(\n",
    "    TrailName=trail_name,\n",
    "    AdvancedEventSelectors=advanced_event_selectors\n",
    ")\n",
    "\n",
    "# Start logging events\n",
    "cloudtrail_client.start_logging(Name=trail_name)\n",
    "\n",
    "print(f\"CloudTrail trail '{trail_name}' created and logging management events for AgentCore Gateway.\")"
   ]
  },
  {
   "cell_type": "markdown",
   "id": "54ccb5be",
   "metadata": {},
   "source": [
    "#### Verify on AWS Console"
   ]
  },
  {
   "cell_type": "markdown",
   "id": "c4dacf63",
   "metadata": {},
   "source": [
    "* Head to [AWS CloudTrail]((https://console.aws.amazon.com/cloudtrailv2/)) service in AWS Console \n",
    "* Ensure that the AWS region is correct. \n",
    "* Click on Trails and verify whether `AgentCoreGatewayMgmtTrail` is created successfully.\n",
    "\n",
    "![ManagementTrail](images/28-cloudtrail.png)\n"
   ]
  },
  {
   "cell_type": "code",
   "execution_count": null,
   "id": "c5aa6ac4",
   "metadata": {},
   "outputs": [],
   "source": [
    "import time\n",
    "time.sleep(20)"
   ]
  },
  {
   "cell_type": "markdown",
   "id": "c2ddb2a8",
   "metadata": {},
   "source": [
    "#### Invoking tools/list and checking the API tracking via CloudTrail Events"
   ]
  },
  {
   "cell_type": "code",
   "execution_count": null,
   "id": "3bbb71b5",
   "metadata": {},
   "outputs": [],
   "source": [
    "def list_gateways():\n",
    "    \"\"\"List all Bedrock Agent Core gateways\"\"\"\n",
    "    try:\n",
    "        # Initialize Bedrock Agent Core client\n",
    "        gateway_client = boto3.client('bedrock-agentcore-control', \n",
    "                                    region_name=REGION)\n",
    "\n",
    "        print(REGION)\n",
    "        \n",
    "        # List gateways\n",
    "        response = gateway_client.list_gateways()\n",
    "        print(response)\n",
    "        \n",
    "        # Print gateway details\n",
    "        if 'items' in response and response['items']:\n",
    "            print(\"\\nGateways found:\")\n",
    "            for gateway in response['items']:\n",
    "                print(f\"\\nName: {gateway.get('name')}\")\n",
    "                print(f\"Gateway ID: {gateway.get('gatewayId')}\")\n",
    "                print(f\"Gateway URL: {gateway.get('gatewayUrl')}\")\n",
    "                print(f\"Status: {gateway.get('status')}\")\n",
    "                print(f\"Protocol Type: {gateway.get('protocolType')}\")\n",
    "                print(f\"Authorizer Type: {gateway.get('authorizerType')}\")\n",
    "        else:\n",
    "            print(\"No gateways found\")\n",
    "            \n",
    "        return response.get('gateways', [])\n",
    "            \n",
    "    except Exception as e:\n",
    "        print(f\"Error listing gateways: {str(e)}\")\n",
    "        return []\n",
    "\n",
    "# Call the function\n",
    "gateways = list_gateways()"
   ]
  },
  {
   "cell_type": "code",
   "execution_count": null,
   "id": "9801b49e",
   "metadata": {},
   "outputs": [],
   "source": [
    "import time\n",
    "time.sleep(20)"
   ]
  },
  {
   "cell_type": "markdown",
   "id": "14ac7a05",
   "metadata": {},
   "source": [
    "<font color=\"red\"> Note it may take a few seconds for the log entries to get reflected in the CloudTrail logs</font>"
   ]
  },
  {
   "cell_type": "markdown",
   "id": "0b1220fc",
   "metadata": {},
   "source": [
    "#### Check the CloudTrail Events\n",
    "\n",
    "* Head to **[Amazon CloudWatch console](https://console.aws.amazon.com/cloudwatch/home)** <br/>\n",
    "* Select CloudTrail Log Groups -> `/aws/cloudtrail/AgentCoreGatewayMgmtTrail` -> `Search all log streams` <br/>\n",
    "* Search for `ListGateways` in the search box.\n",
    "\n",
    "**ListGateways API call of the type `IAMUser`** <br/><br/>\n",
    "![ListGateways](images/22-list-gateways-1.png)\n",
    "\n",
    "Similary CreateGateway operations and other [gateway events](https://docs.aws.amazon.com/bedrock-agentcore/latest/devguide/gateway-event-types.html) also logged under Management Events. <br/> <br/>\n",
    "![ManagementEvents](images/21-cloudtrail-mgmt.png)"
   ]
  },
  {
   "cell_type": "markdown",
   "id": "923dfa58",
   "metadata": {},
   "source": [
    "#### Logging Data Events in CloudTrail\n",
    "\n",
    "**<font color=\"red\"> Note that data events will incur additional costs and are not enabled by default due to the volume</font>**"
   ]
  },
  {
   "cell_type": "code",
   "execution_count": null,
   "id": "79c47911",
   "metadata": {},
   "outputs": [],
   "source": [
    "account_id = boto3.client('sts').get_caller_identity()['Account']\n",
    "trail_name = 'AgentCoreGatewayDataTrail'\n",
    "role_name = f\"CloudTrail-{trail_name}-{REGION}\"\n",
    "print(role_name)\n",
    "log_group_name = f\"/aws/cloudtrail/{trail_name}\"\n",
    "print(log_group_name)\n",
    "\n",
    "#Creating CloudWatchRole\n",
    "cloudwatch_role_arn = create_cloudwatch_role(role_name, account_id, REGION, log_group_name)\n",
    "print(cloudwatch_role_arn)"
   ]
  },
  {
   "cell_type": "code",
   "execution_count": null,
   "id": "9477d5b4",
   "metadata": {},
   "outputs": [],
   "source": [
    "import time\n",
    "time.sleep(20)"
   ]
  },
  {
   "cell_type": "code",
   "execution_count": null,
   "id": "3ddf6175",
   "metadata": {},
   "outputs": [],
   "source": [
    "import boto3\n",
    "\n",
    "# Create S3 bucket for CloudTrail logs\n",
    "s3_bucket_name = generate_s3_bucket_name(\"agentcore-gateway-data\")\n",
    "print(s3_bucket_name)\n",
    "create_bucket(s3_bucket_name, REGION)\n",
    "put_bucket_policy(s3_bucket_name, account_id, REGION, trail_name)\n",
    "\n",
    "# Create CloudWatch Logs group\n",
    "create_cloudwatch_log_group(log_group_name, account_id, REGION)"
   ]
  },
  {
   "cell_type": "code",
   "execution_count": null,
   "id": "5928cf2b",
   "metadata": {},
   "outputs": [],
   "source": [
    "import time\n",
    "time.sleep(20)"
   ]
  },
  {
   "cell_type": "code",
   "execution_count": null,
   "id": "a7beee80",
   "metadata": {},
   "outputs": [],
   "source": [
    "# Creating cloudtrail\n",
    "cloudtrail_client = boto3.client('cloudtrail', region_name=REGION)\n",
    "\n",
    "# Create the trail\n",
    "response = cloudtrail_client.create_trail(\n",
    "    Name=trail_name,\n",
    "    S3BucketName=s3_bucket_name,\n",
    "    CloudWatchLogsLogGroupArn=f\"arn:aws:logs:{REGION}:{account_id}:log-group:{log_group_name}:*\",\n",
    "    CloudWatchLogsRoleArn=cloudwatch_role_arn\n",
    ")\n",
    "\n",
    "# Define advanced event selector to only include management events for AgentCore Gateway\n",
    "advanced_event_selectors = [\n",
    "    {\n",
    "        'Name': 'AgentCoreGatewayDataEvents',\n",
    "        'FieldSelectors': [\n",
    "            {\n",
    "                'Field': 'eventCategory',\n",
    "                'Equals': ['Data']\n",
    "            },\n",
    "            {\n",
    "                'Field': 'resources.type',\n",
    "                'Equals': ['AWS::BedrockAgentCore::Gateway']  # Corrected service name\n",
    "            }\n",
    "        ]\n",
    "    }\n",
    "]\n",
    "\n",
    "# Update the trail to use the advanced event selector\n",
    "cloudtrail_client.put_event_selectors(\n",
    "    TrailName=trail_name,\n",
    "    AdvancedEventSelectors=advanced_event_selectors\n",
    ")\n",
    "\n",
    "# Start logging events\n",
    "cloudtrail_client.start_logging(Name=trail_name)\n",
    "\n",
    "print(f\"CloudTrail trail '{trail_name}' created and logging data events for AgentCore Gateway.\")"
   ]
  },
  {
   "cell_type": "markdown",
   "id": "8201eb80",
   "metadata": {},
   "source": [
    "#### Verify on AWS Console"
   ]
  },
  {
   "cell_type": "markdown",
   "id": "d74087aa",
   "metadata": {},
   "source": [
    "* Head to [AWS CloudTrail]((https://console.aws.amazon.com/cloudtrailv2/)) service in AWS Console \n",
    "* Ensure that the AWS region is correct. \n",
    "* Click on Trails and verify whether `AgentCoreGatewayDataTrail` is created successfully.\n",
    "\n",
    "\n",
    "![ManagementTrail](images/29-data-cloudtrail1.png)"
   ]
  },
  {
   "cell_type": "code",
   "execution_count": null,
   "id": "c1d7d5a2",
   "metadata": {},
   "outputs": [],
   "source": [
    "import time\n",
    "time.sleep(20)"
   ]
  },
  {
   "cell_type": "markdown",
   "id": "89546ba6",
   "metadata": {},
   "source": [
    "#### Obtaining token for AgentCore Gateway"
   ]
  },
  {
   "cell_type": "code",
   "execution_count": null,
   "id": "292e9813",
   "metadata": {},
   "outputs": [],
   "source": [
    "print(\"Requesting the access token from Amazon Cognito authorizer...May fail for some time till the domain name propogation completes\")\n",
    "token_response = utils.get_token(user_pool_id, client_id, client_secret,scopeString,REGION)\n",
    "token = token_response[\"access_token\"]\n",
    "print(\"Token response:\", token)"
   ]
  },
  {
   "cell_type": "code",
   "execution_count": null,
   "id": "76a729fe",
   "metadata": {},
   "outputs": [],
   "source": [
    "from mcp.client.streamable_http import streamablehttp_client\n",
    "from strands.tools.mcp.mcp_client import MCPClient\n",
    "\n",
    "print(gatewayURL)\n",
    "\n",
    "def create_streamable_http_transport():\n",
    "    return streamablehttp_client(gatewayURL, headers={\"Authorization\": f\"Bearer {token}\"})\n",
    "\n",
    "client = MCPClient(create_streamable_http_transport)\n",
    "\n",
    "# Define specific tool parameters\n",
    "TOOL_NAME = \"LambdaUsingSDK___get_order_tool\"\n",
    "ORDER_ID = \"123\"\n",
    "\n",
    "with client:\n",
    "    try:\n",
    "        # Call the get_order_tool\n",
    "        result = client.call_tool_sync(\n",
    "            tool_use_id=\"get-order-id-123-call-1\",\n",
    "            name=TOOL_NAME,\n",
    "            arguments={\"orderId\": ORDER_ID}\n",
    "        )\n",
    "        \n",
    "        # Print the tool's response\n",
    "        print(f\"\\nGet Order Tool Response for Order ID {ORDER_ID}:\")\n",
    "        print(f\"Content: {result['content'][0]['text']}\")\n",
    "                \n",
    "    except Exception as e:\n",
    "        print(f\"Error occurred while calling {TOOL_NAME}: {str(e)}\")"
   ]
  },
  {
   "cell_type": "markdown",
   "id": "aacd8d8c",
   "metadata": {},
   "source": [
    "#### Check the CloudTrail Events\n",
    "\n",
    "* Head to **[Amazon CloudWatch console](https://console.aws.amazon.com/cloudwatch/home)** <br/>\n",
    "* Select CloudTrail Log Groups -> `/aws/cloudtrail/AgentCoreGatewayDataTrail` -> `Search all log streams` <br/>"
   ]
  },
  {
   "cell_type": "markdown",
   "id": "3732cb2d",
   "metadata": {},
   "source": [
    "<font color=\"red\"> Note it may take a few seconds for the log entries to get reflected in the CloudTrail logs</font>"
   ]
  },
  {
   "cell_type": "markdown",
   "id": "04319b29",
   "metadata": {},
   "source": [
    "![cloudtrail-data](images/23-cloudtrail-data.png)"
   ]
  },
  {
   "cell_type": "markdown",
   "id": "2e2ed878",
   "metadata": {},
   "source": [
    "# Clean up\n",
    "\n",
    "This script deletes almost all the resources created. However, if some resources do not get deleted or fail to get deleted, you may need to delete them manually. "
   ]
  },
  {
   "cell_type": "code",
   "execution_count": null,
   "id": "7c8b0522",
   "metadata": {},
   "outputs": [],
   "source": [
    "import boto3\n",
    "import os\n",
    "import time\n",
    "import json\n",
    "from botocore.exceptions import ClientError\n",
    "\n",
    "# Initialize AWS clients\n",
    "REGION = os.environ.get('AWS_DEFAULT_REGION', 'us-east-1')\n",
    "gateway_client = boto3.client('bedrock-agentcore-control', region_name=REGION)\n",
    "logs_client = boto3.client('logs', region_name=REGION)\n",
    "cloudtrail_client = boto3.client('cloudtrail', region_name=REGION)\n",
    "s3_client = boto3.client('s3', region_name=REGION)\n",
    "iam_client = boto3.client('iam', region_name=REGION)\n",
    "cognito_client = boto3.client('cognito-idp', region_name=REGION)\n",
    "lambda_client = boto3.client('lambda', region_name=REGION)\n",
    "ecr_client = boto3.client('ecr', region_name=REGION)\n",
    "sts_client = boto3.client('sts', region_name=REGION)\n",
    "\n",
    "account_id = sts_client.get_caller_identity()['Account']\n",
    "\n",
    "def get_agentcore_runtime_id_by_name(agent_name, region):\n",
    "    \"\"\"\n",
    "    Get AgentCore Runtime ID by agent name.\n",
    "    \n",
    "    :param agent_name: The name of the agent runtime to find\n",
    "    :param region: AWS region where the runtime exists\n",
    "    :return: The runtime ID if found, None otherwise\n",
    "    \"\"\"\n",
    "    agent_runtime_id = None\n",
    "    \n",
    "    try:\n",
    "        client = boto3.client('bedrock-agentcore-control', region_name=region)\n",
    "        response = client.list_agent_runtimes()\n",
    "        print(f\"Searching for agent runtime matching: {agent_name}\")\n",
    "        \n",
    "        for runtime in response.get('agentRuntimes', []):\n",
    "            if runtime.get('agentRuntimeId', '').find(agent_name) >= 0:\n",
    "                agent_runtime_id = runtime.get('agentRuntimeId')\n",
    "                print(f\"Found runtime ID: {agent_runtime_id}\")\n",
    "                print(f\"Found runtime: {agent_name}\")\n",
    "                break\n",
    "        \n",
    "        return agent_runtime_id\n",
    "        \n",
    "    except ClientError as e:\n",
    "        print(f\"Error listing runtimes: {e}\")\n",
    "        raise\n",
    "\n",
    "def delete_agentcore_runtime(region, agent_runtime_id):\n",
    "    \"\"\"Delete AgentCore runtime using the correct runtime ID\"\"\"\n",
    "    try:\n",
    "        client = boto3.client('bedrock-agentcore-control', region_name=region)\n",
    "        response = client.delete_agent_runtime(\n",
    "            agentRuntimeId=agent_runtime_id\n",
    "        )\n",
    "        print(f\"Successfully deleted AgentCore Runtime: {agent_runtime_id}\")\n",
    "        return response\n",
    "    except ClientError as e:\n",
    "        error_code = e.response['Error']['Code']\n",
    "        if error_code == 'ResourceNotFoundException':\n",
    "            print(f\"AgentCore runtime {agent_runtime_id} not found - may already be deleted\")\n",
    "        elif error_code == 'ConflictException':\n",
    "            print(f\"Cannot delete AgentCore runtime {agent_runtime_id} - resource is in use\")\n",
    "        elif error_code == 'AccessDeniedException':\n",
    "            print(f\"Access denied. Ensure caller has bedrock-agentcore:DeleteAgentRuntime permission\")\n",
    "        else:\n",
    "            print(f\"Error deleting AgentCore runtime: {e}\")\n",
    "        raise\n",
    "\n",
    "def delete_ecr_repository(ecr_repository_name):\n",
    "    \"\"\"Delete ECR repository if name is provided\"\"\"\n",
    "    try:\n",
    "        print(f\"Deleting ECR repository: {ecr_repository_name}\")\n",
    "        ecr_response = ecr_client.delete_repository(\n",
    "            repositoryName=ecr_repository_name,\n",
    "            force=True  # Force delete even if images exist\n",
    "        )\n",
    "        print(f\"ECR repository {ecr_repository_name} deleted successfully\")\n",
    "        return ecr_response\n",
    "    except ClientError as e:\n",
    "        print(f\"Error deleting ECR repository {ecr_repository_name}: {e}\")\n",
    "        raise\n",
    "\n",
    "def delete_gateway_and_targets(gateway_id):\n",
    "    \"\"\"Delete gateway targets and the gateway itself\"\"\"\n",
    "    try:\n",
    "        # List and delete all gateway targets\n",
    "        targets_response = gateway_client.list_gateway_targets(gatewayIdentifier=gateway_id)\n",
    "        for target in targets_response.get('items', []):\n",
    "            target_id = target['targetId']\n",
    "            print(f\"Deleting gateway target: {target_id}\")\n",
    "            gateway_client.delete_gateway_target(\n",
    "                gatewayIdentifier=gateway_id,\n",
    "                targetIdentifier=target_id\n",
    "            )\n",
    "            time.sleep(2)\n",
    "        \n",
    "        # Delete the gateway\n",
    "        print(f\"Deleting gateway: {gateway_id}\")\n",
    "        gateway_client.delete_gateway(gatewayIdentifier=gateway_id)\n",
    "        print(f\"Gateway {gateway_id} deleted successfully\")\n",
    "        \n",
    "    except ClientError as e:\n",
    "        print(f\"Error deleting gateway: {e}\")\n",
    "\n",
    "def delete_cloudwatch_log_deliveries(gateway_name):\n",
    "    \"\"\"Delete CloudWatch log and trace deliveries\"\"\"\n",
    "    try:\n",
    "        logs_source_name = f\"{gateway_name}-logs-source\"\n",
    "        traces_source_name = f\"{gateway_name}-traces-source\"\n",
    "        \n",
    "        # List and delete deliveries\n",
    "        deliveries = logs_client.describe_deliveries()\n",
    "        for delivery in deliveries.get('deliveries', []):\n",
    "            delivery_id = delivery['id']\n",
    "            print(f\"Deleting delivery: {delivery_id}\")\n",
    "            logs_client.delete_delivery(id=delivery_id)\n",
    "            time.sleep(1)\n",
    "        \n",
    "        # Delete delivery sources\n",
    "        for source_name in [logs_source_name, traces_source_name]:\n",
    "            try:\n",
    "                print(f\"Deleting delivery source: {source_name}\")\n",
    "                logs_client.delete_delivery_source(name=source_name)\n",
    "            except ClientError as e:\n",
    "                print(f\"Error deleting source {source_name}: {e}\")\n",
    "        \n",
    "        # Delete delivery destinations\n",
    "        destinations = logs_client.describe_delivery_destinations()\n",
    "        for dest in destinations.get('deliveryDestinations', []):\n",
    "            dest_name = dest['name']\n",
    "            if 'bedrock-agentcore-gw' in dest_name or gateway_name in dest_name:\n",
    "                print(f\"Deleting delivery destination: {dest_name}\")\n",
    "                logs_client.delete_delivery_destination(name=dest_name)\n",
    "                time.sleep(1)\n",
    "                \n",
    "    except ClientError as e:\n",
    "        print(f\"Error deleting log deliveries: {e}\")\n",
    "\n",
    "def delete_cloudwatch_log_groups(gateway_id):\n",
    "    \"\"\"Delete CloudWatch log groups\"\"\"\n",
    "    log_groups = [\n",
    "        f'/aws/vendedlogs/bedrock-agentcore/gateway/APPLICATION_LOGS/{gateway_id}',\n",
    "        '/aws/cloudtrail/AgentCoreGatewayMgmtTrail',\n",
    "        '/aws/cloudtrail/AgentCoreGatewayDataTrail'\n",
    "    ]\n",
    "    \n",
    "    for log_group in log_groups:\n",
    "        try:\n",
    "            print(f\"Deleting log group: {log_group}\")\n",
    "            logs_client.delete_log_group(logGroupName=log_group)\n",
    "            print(f\"Log group {log_group} deleted\")\n",
    "        except ClientError as e:\n",
    "            print(f\"Error deleting log group {log_group}: {e}\")\n",
    "\n",
    "def delete_cloudtrail_trails():\n",
    "    \"\"\"Delete CloudTrail trails\"\"\"\n",
    "    trails = ['AgentCoreGatewayMgmtTrail', 'AgentCoreGatewayDataTrail']\n",
    "    \n",
    "    for trail_name in trails:\n",
    "        try:\n",
    "            # Stop logging\n",
    "            print(f\"Stopping logging for trail: {trail_name}\")\n",
    "            cloudtrail_client.stop_logging(Name=trail_name)\n",
    "            time.sleep(2)\n",
    "            \n",
    "            # Delete trail\n",
    "            print(f\"Deleting trail: {trail_name}\")\n",
    "            cloudtrail_client.delete_trail(Name=trail_name)\n",
    "            print(f\"Trail {trail_name} deleted\")\n",
    "            \n",
    "        except ClientError as e:\n",
    "            print(f\"Error deleting trail {trail_name}: {e}\")\n",
    "\n",
    "def empty_and_delete_s3_bucket(bucket_name):\n",
    "    \"\"\"Empty and delete S3 bucket\"\"\"\n",
    "    try:\n",
    "        # List and delete all objects\n",
    "        print(f\"Emptying S3 bucket: {bucket_name}\")\n",
    "        paginator = s3_client.get_paginator('list_objects_v2')\n",
    "        \n",
    "        for page in paginator.paginate(Bucket=bucket_name):\n",
    "            if 'Contents' in page:\n",
    "                objects = [{'Key': obj['Key']} for obj in page['Contents']]\n",
    "                s3_client.delete_objects(Bucket=bucket_name, Delete={'Objects': objects})\n",
    "        \n",
    "        # Delete the bucket\n",
    "        print(f\"Deleting S3 bucket: {bucket_name}\")\n",
    "        s3_client.delete_bucket(Bucket=bucket_name)\n",
    "        print(f\"S3 bucket {bucket_name} deleted\")\n",
    "        \n",
    "    except ClientError as e:\n",
    "        print(f\"Error deleting S3 bucket {bucket_name}: {e}\")\n",
    "\n",
    "def delete_iam_roles():\n",
    "    \"\"\"Delete IAM roles created for CloudTrail and Gateway\"\"\"\n",
    "    roles = [\n",
    "        f\"CloudTrail-AgentCoreGatewayMgmtTrail-{REGION}\",\n",
    "        f\"CloudTrail-AgentCoreGatewayDataTrail-{REGION}\",\n",
    "        \"sample-lambdagateway-role\"\n",
    "    ]\n",
    "    \n",
    "    for role_name in roles:\n",
    "        try:\n",
    "            # Delete inline policies\n",
    "            policies = iam_client.list_role_policies(RoleName=role_name)\n",
    "            for policy_name in policies.get('PolicyNames', []):\n",
    "                print(f\"Deleting inline policy {policy_name} from role {role_name}\")\n",
    "                iam_client.delete_role_policy(RoleName=role_name, PolicyName=policy_name)\n",
    "            \n",
    "            # Detach managed policies\n",
    "            attached_policies = iam_client.list_attached_role_policies(RoleName=role_name)\n",
    "            for policy in attached_policies.get('AttachedPolicies', []):\n",
    "                print(f\"Detaching policy {policy['PolicyArn']} from role {role_name}\")\n",
    "                iam_client.detach_role_policy(RoleName=role_name, PolicyArn=policy['PolicyArn'])\n",
    "            \n",
    "            # Delete the role\n",
    "            print(f\"Deleting IAM role: {role_name}\")\n",
    "            iam_client.delete_role(RoleName=role_name)\n",
    "            print(f\"IAM role {role_name} deleted\")\n",
    "            \n",
    "        except ClientError as e:\n",
    "            print(f\"Error deleting IAM role {role_name}: {e}\")\n",
    "\n",
    "def delete_cognito_resources(user_pool_id, client_id):\n",
    "    \"\"\"Delete Cognito user pool and client\"\"\"\n",
    "    try:\n",
    "        # Delete app client\n",
    "        print(f\"Deleting Cognito app client: {client_id}\")\n",
    "        cognito_client.delete_user_pool_client(\n",
    "            UserPoolId=user_pool_id,\n",
    "            ClientId=client_id\n",
    "        )\n",
    "        \n",
    "        # Delete resource server\n",
    "        resource_server_id = \"sample-agentcore-gateway-id\"\n",
    "        print(f\"Deleting Cognito resource server: {resource_server_id}\")\n",
    "        cognito_client.delete_resource_server(\n",
    "            UserPoolId=user_pool_id,\n",
    "            Identifier=resource_server_id\n",
    "        )\n",
    "        \n",
    "        # Delete user pool\n",
    "        print(f\"Deleting Cognito user pool: {user_pool_id}\")\n",
    "        cognito_client.delete_user_pool(UserPoolId=user_pool_id)\n",
    "        print(f\"Cognito user pool {user_pool_id} deleted\")\n",
    "        \n",
    "    except ClientError as e:\n",
    "        print(f\"Error deleting Cognito resources: {e}\")\n",
    "\n",
    "def delete_lambda_function(function_name=\"gateway_lambda\"):\n",
    "    \"\"\"Delete Lambda function\"\"\"\n",
    "    try:\n",
    "        print(f\"Deleting Lambda function: {function_name}\")\n",
    "        lambda_client.delete_function(FunctionName=function_name)\n",
    "        print(f\"Lambda function {function_name} deleted\")\n",
    "    except ClientError as e:\n",
    "        print(f\"Error deleting Lambda function: {e}\")\n",
    "\n",
    "# Main cleanup execution\n",
    "if __name__ == \"__main__\":\n",
    "    print(\"=\" * 80)\n",
    "    print(\"AMAZON BEDROCK AGENTCORE GATEWAY OBSERVABILITY CLEANUP\")\n",
    "    print(\"=\" * 80)\n",
    "    \n",
    "    # IMPORTANT: Replace these with your actual resource identifiers\n",
    "    gateway_id = gatewayID  # Replace with actual gateway ID\n",
    "    gateway_name = gatewayID  # Replace with actual gateway name\n",
    "    user_pool_id = user_pool_id  # Replace with actual user pool ID\n",
    "    client_id = client_id  # Replace with actual client ID\n",
    "    agent_name = \"strands_demo_agent\"  # Agent name to search for\n",
    "    ecr_repository_name = \"bedrock-agentcore-\" + agent_name # Replace with actual ECR repository name (optional)\n",
    "    \n",
    "    # Step 1: Lookup and Delete AgentCore Runtime Agent and ECR Repository\n",
    "    print(\"\\n[1/9] Looking up and Deleting AgentCore Runtime Agent and ECR Repository...\")\n",
    "    try:\n",
    "        # Use your function to lookup the runtime ID by name\n",
    "        agent_runtime_id = get_agentcore_runtime_id_by_name(agent_name, REGION)\n",
    "        \n",
    "        if agent_runtime_id:\n",
    "            print(f\"Region: {REGION}\")\n",
    "            # Delete the runtime using your delete function\n",
    "            delete_agentcore_runtime(REGION, agent_runtime_id)\n",
    "            time.sleep(5)\n",
    "            \n",
    "            # Delete ECR repository if provided\n",
    "            if ecr_repository_name:\n",
    "                delete_ecr_repository(ecr_repository_name)\n",
    "            else:\n",
    "                print(\"No ECR repository name provided - skipping ECR cleanup\")\n",
    "        else:\n",
    "            print(f\"No runtime found matching: {agent_name}\")\n",
    "            print(\"Skipping AgentCore runtime deletion...\")\n",
    "    except Exception as e:\n",
    "        print(f\"Failed to delete AgentCore runtime: {e}\")\n",
    "        print(\"Continuing with remaining cleanup tasks...\")\n",
    "    \n",
    "    # Step 2: Delete Gateway and Targets\n",
    "    print(\"\\n[2/9] Deleting Gateway and Targets...\")\n",
    "    try:\n",
    "        delete_gateway_and_targets(gateway_id)\n",
    "        time.sleep(5)\n",
    "    except Exception as e:\n",
    "        print(f\"Error in gateway deletion: {e}\")\n",
    "    \n",
    "    # Step 3: Delete CloudWatch Log Deliveries\n",
    "    print(\"\\n[3/9] Deleting CloudWatch Log Deliveries...\")\n",
    "    try:\n",
    "        delete_cloudwatch_log_deliveries(gateway_name)\n",
    "        time.sleep(5)\n",
    "    except Exception as e:\n",
    "        print(f\"Error deleting log deliveries: {e}\")\n",
    "    \n",
    "    # Step 4: Delete CloudWatch Log Groups\n",
    "    print(\"\\n[4/9] Deleting CloudWatch Log Groups...\")\n",
    "    try:\n",
    "        delete_cloudwatch_log_groups(gateway_id)\n",
    "    except Exception as e:\n",
    "        print(f\"Error deleting log groups: {e}\")\n",
    "    \n",
    "    # Step 5: Delete CloudTrail Trails\n",
    "    print(\"\\n[5/9] Deleting CloudTrail Trails...\")\n",
    "    try:\n",
    "        delete_cloudtrail_trails()\n",
    "        time.sleep(5)\n",
    "    except Exception as e:\n",
    "        print(f\"Error deleting trails: {e}\")\n",
    "    \n",
    "    # Step 6: Delete S3 Buckets\n",
    "    print(\"\\n[6/9] Deleting S3 Buckets...\")\n",
    "    try:\n",
    "        buckets = s3_client.list_buckets()\n",
    "        for bucket in buckets['Buckets']:\n",
    "            bucket_name = bucket['Name']\n",
    "            if 'agentcore-gateway' in bucket_name:\n",
    "                empty_and_delete_s3_bucket(bucket_name)\n",
    "    except Exception as e:\n",
    "        print(f\"Error deleting S3 buckets: {e}\")\n",
    "    \n",
    "    # Step 7: Delete IAM Roles\n",
    "    print(\"\\n[7/9] Deleting IAM Roles...\")\n",
    "    try:\n",
    "        delete_iam_roles()\n",
    "    except Exception as e:\n",
    "        print(f\"Error deleting IAM roles: {e}\")\n",
    "    \n",
    "    # Step 8: Delete Cognito Resources\n",
    "    print(\"\\n[8/9] Deleting Cognito Resources...\")\n",
    "    try:\n",
    "        delete_cognito_resources(user_pool_id, client_id)\n",
    "    except Exception as e:\n",
    "        print(f\"Error deleting Cognito resources: {e}\")\n",
    "    \n",
    "    # Step 9: Delete Lambda Function\n",
    "    print(\"\\n[9/9] Deleting Lambda Function...\")\n",
    "    try:\n",
    "        delete_lambda_function()\n",
    "    except Exception as e:\n",
    "        print(f\"Error deleting Lambda function: {e}\")\n",
    "    \n",
    "    print(\"\\n\" + \"=\" * 80)\n",
    "    print(\"CLEANUP PROCESS COMPLETED\")\n",
    "    print(\"=\" * 80)\n",
    "    print(\"\\nPlease verify in the AWS Console that all resources have been deleted.\")\n",
    "    print(\"Some resources may take a few minutes to fully delete.\")\n",
    "    print(\"\\nVerification checklist:\")\n",
    "    print(\"  ✓ Amazon Bedrock AgentCore - Gateways\")\n",
    "    print(\"  ✓ Amazon Bedrock AgentCore - Runtime\")\n",
    "    print(\"  ✓ Amazon CloudWatch - Log Groups\")\n",
    "    print(\"  ✓ AWS CloudTrail - Trails\")\n",
    "    print(\"  ✓ Amazon S3 - Buckets\")\n",
    "    print(\"  ✓ AWS IAM - Roles\")\n",
    "    print(\"  ✓ Amazon Cognito - User Pools\")\n",
    "    print(\"  ✓ AWS Lambda - Functions\")\n",
    "    print(\"  ✓ Amazon ECR - Repositories\")\n"
   ]
  }
 ],
 "metadata": {
  "kernelspec": {
   "display_name": ".venv",
   "language": "python",
   "name": "python3"
  },
  "language_info": {
   "codemirror_mode": {
    "name": "ipython",
    "version": 3
   },
   "file_extension": ".py",
   "mimetype": "text/x-python",
   "name": "python",
   "nbconvert_exporter": "python",
   "pygments_lexer": "ipython3",
   "version": "3.13.7"
  }
 },
 "nbformat": 4,
 "nbformat_minor": 5
}
