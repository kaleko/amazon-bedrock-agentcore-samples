{
 "cells": [
  {
   "cell_type": "markdown",
   "id": "883d3f31-574f-4ee1-b531-41dd5cc6e348",
   "metadata": {},
   "source": [
    "# Bearer Token Injection Pattern for AWS Bedrock AgentCore Gateway Targets"
   ]
  },
  {
   "cell_type": "markdown",
   "id": "0ec29593-2f1a-4921-92a5-6641d70b2769",
   "metadata": {},
   "source": [
    "## Overview\n",
    "\n",
    "Customers want to enable an MCP Client(Cyphr, Amazon Q) to invoke tools (e.g., Asana functions) exposed by backend targets (Lambda functions or RESTful services) through the AgentCore Gateway. A critical requirement is to inject a dynamic bearer token from the MCP client into the target for authentication with the downstream service. The key challenge is the mandatory outbound authentication requirement in the AgentCore Gateway, which can conflict with dynamic header injection.\n",
    "\n",
    "The following architecture diagram shows the solution we are proposing for injecting auth token (e.g. \"Bearer actual-auth-token\") without conflicting with AgentCore outbound auth mechanism.\n",
    "\n",
    "<img src=\"./images/token-injection-architecture.png\" alt=\"Architecture diagram showing token injection pattern\" title=\"Architecture diagram showing token injection pattern\" />\n",
    "\n",
    "In the solution, the MCP client obtains the auth token to be used by the tool and passes it on to the AgentCore Gateway as a parameter in the payload which is then passed on to the tool as a custom header."
   ]
  },
  {
   "cell_type": "markdown",
   "id": "ce03190d",
   "metadata": {},
   "source": [
    "### Deploying the prerequisites\n",
    "\n",
    "This solution deploys the following components: \n",
    "- Cognito user pool for inbound authentication \n",
    "- API Gateway with Lambda integration\n",
    "- API Key for AgentCore outbound authentication\n"
   ]
  },
  {
   "cell_type": "code",
   "execution_count": null,
   "id": "9612d6ae-6f69-4415-a42b-5322b77936b8",
   "metadata": {},
   "outputs": [],
   "source": [
    "cd prerequisites/agentcore-components"
   ]
  },
  {
   "cell_type": "code",
   "execution_count": null,
   "id": "2bc8ee82-890e-4e6c-9daf-04d2b3afd88c",
   "metadata": {},
   "outputs": [],
   "source": [
    "!bash prereq.sh"
   ]
  },
  {
   "cell_type": "markdown",
   "id": "6559974a",
   "metadata": {},
   "source": [
    "## Creating AgentCore Gateway with API Gateway as target\n",
    "\n",
    "\n"
   ]
  },
  {
   "cell_type": "markdown",
   "id": "22fa318a-8fc8-4ecb-b1e2-9d1b871f9abd",
   "metadata": {},
   "source": [
    "### Step 1: Install Dependencies and Import \n",
    "\n",
    "Before we start, let's install the pre-requisites for this lab"
   ]
  },
  {
   "cell_type": "code",
   "execution_count": null,
   "id": "127d163b-0457-428e-af42-63cd1264507b",
   "metadata": {},
   "outputs": [],
   "source": [
    "import os\n",
    "import sys\n",
    "\n",
    "# Get the directory of the current script\n",
    "if \"__file__\" in globals():\n",
    "    current_dir = os.path.dirname(os.path.abspath(__file__))\n",
    "else:\n",
    "    current_dir = os.getcwd()  # Fallback if __file__ is not defined (e.g., Jupyter)\n",
    "\n",
    "print(f\"current_dir set to {current_dir}\")\n",
    "\n",
    "# Navigate to the directory containing utils.py (two level up to \"04-bearer-token-injection\")\n",
    "utils_dir = os.path.abspath(os.path.join(current_dir, \"../..\"))\n",
    "\n",
    "# Add to sys.path\n",
    "sys.path.insert(0, utils_dir)\n",
    "\n",
    "import utils"
   ]
  },
  {
   "cell_type": "code",
   "execution_count": null,
   "id": "2ea729e8-409b-4442-8400-d8aa461d4505",
   "metadata": {},
   "outputs": [],
   "source": [
    "# Install required packages\n",
    "%pip install -U -r ../../requirements.txt -q"
   ]
  },
  {
   "cell_type": "markdown",
   "id": "7081d97e-f130-463c-8838-0c0fcc8e3100",
   "metadata": {},
   "source": [
    "### Step 2: Create AgentCore Gateway\n",
    "\n",
    "The following Python code:\n",
    "- creates AgentCore Gateway\n",
    "- adds the previously created APIGateway with API_KEY as Target."
   ]
  },
  {
   "cell_type": "code",
   "execution_count": null,
   "id": "ef6ca2da-5f43-4e81-896f-2a40de7e8f78",
   "metadata": {},
   "outputs": [],
   "source": [
    "# Import the functions from the agentcore_gateway_creation module\n",
    "import sys\n",
    "import os\n",
    "\n",
    "# Add the current directory to Python path to import the module\n",
    "current_dir = os.getcwd()\n",
    "if current_dir not in sys.path:\n",
    "    sys.path.insert(0, current_dir)\n",
    "\n",
    "from agentcore_gateway_creation import create_agentcore_gateway\n",
    "\n",
    "# Step 1: Create the AgentCore Gateway\n",
    "print(\"🚀 Creating AgentCore Gateway...\")\n",
    "gateway = create_agentcore_gateway()\n",
    "print(f\"✅ Gateway created with ID: {gateway['id']}\")\n",
    "print(f\"Gateway URL: {gateway['gateway_url']}\")"
   ]
  },
  {
   "cell_type": "markdown",
   "id": "513d4580-e215-4e38-a1e0-80fee69bef0f",
   "metadata": {},
   "source": [
    "### Step 3: Add APIGateway as target in AgentCore Gateway\n",
    "\n",
    "Let us first make sure that the AgentCore Gateway is \"READY\"."
   ]
  },
  {
   "cell_type": "code",
   "execution_count": null,
   "id": "aa32c283-a6ab-4d4f-bd88-e98e159f2fb0",
   "metadata": {},
   "outputs": [],
   "source": [
    "import time\n",
    "import boto3\n",
    "\n",
    "# Wait for gateway to be in ACTIVE state\n",
    "gateway_client = boto3.client(\"bedrock-agentcore-control\")\n",
    "while True:\n",
    "    response = gateway_client.get_gateway(gatewayIdentifier=gateway[\"id\"])\n",
    "    status = response[\"status\"]\n",
    "    print(f\"Gateway status: {status}\")\n",
    "    if status == \"READY\":\n",
    "        break\n",
    "    elif status == \"FAILED\":\n",
    "        raise Exception(\"Gateway creation failed\")\n",
    "    time.sleep(10)  # Wait 10 seconds before checking again"
   ]
  },
  {
   "cell_type": "markdown",
   "id": "257f5949-904a-4569-9428-92f5d8ea1510",
   "metadata": {},
   "source": [
    "Now let's add the gateway target to complete the setup:"
   ]
  },
  {
   "cell_type": "code",
   "execution_count": null,
   "id": "new-cell-id",
   "metadata": {},
   "outputs": [],
   "source": [
    "from agentcore_gateway_creation import add_gateway_target\n",
    "\n",
    "# Step 2: Add Gateway Target\n",
    "print(\"🎯 Adding Gateway Target...\")\n",
    "add_gateway_target(gateway[\"id\"])\n",
    "print(\"✅ Gateway target configuration completed!\")"
   ]
  },
  {
   "cell_type": "markdown",
   "id": "99dc6bbe",
   "metadata": {},
   "source": [
    "Let's look at OpenAPI Spec which used to define this target:\n",
    "\n",
    "<img src=\"./images/bearer-token-in-api-spec.png\" alt=\"bearer token in api spec as a header\" title=\"bearer token in api spec as a header\" />\n",
    "\n",
    "The token is defined as a header parameter in the schema and forwarded in an HTTP header: ```X-Asana-Token```. This is just an example, you can define header like this for your integration.\n",
    "\n",
    "HTTP header is most conventional pattern for authentication tokens."
   ]
  },
  {
   "cell_type": "markdown",
   "id": "f8caf0c8",
   "metadata": {},
   "source": [
    "### Step 4: Test end to end flow\n",
    "\n",
    "Let's now test the end to end flow where we will invoke ``` tools/list ``` from a MCP client."
   ]
  },
  {
   "cell_type": "code",
   "execution_count": null,
   "id": "0eb7efe5-412f-4af3-89f2-4a883a3b53a9",
   "metadata": {},
   "outputs": [],
   "source": [
    "import os\n",
    "import boto3\n",
    "import time\n",
    "from botocore.exceptions import ClientError\n",
    "import utils\n",
    "import uuid\n",
    "import json\n",
    "import requests\n",
    "\n",
    "# Step 1: Get inbound Auth token for MCP client to authenticate with AgentCore\n",
    "token_url = utils.get_ssm_parameter(\"/app/asana/demo/agentcoregwy/cognito_token_url\")\n",
    "client_id = utils.get_ssm_parameter(\"/app/asana/demo/agentcoregwy/machine_client_id\")\n",
    "client_secret = utils.get_cognito_client_secret()\n",
    "inbound_auth_token = utils.fetch_access_token(client_id, client_secret, token_url)\n",
    "print(\"access token received\")\n",
    "\n",
    "# Step 2: Get Gateway config and prepare payload\n",
    "GATEWAY_MCP_URL = gateway_url = (\n",
    "    f\"https://{utils.get_ssm_parameter('/app/asana/demo/agentcoregwy/gateway_id')}.gateway.bedrock-agentcore.us-east-1.amazonaws.com/mcp\"\n",
    ")\n",
    "\n",
    "SESSION_ID = str(uuid.uuid4())\n",
    "headers = {\n",
    "    \"Authorization\": f\"Bearer {inbound_auth_token}\",  # For Inbound Auth\n",
    "    \"Content-Type\": \"application/json\",\n",
    "    \"Mcp-Session-Id\": SESSION_ID,\n",
    "}\n",
    "\n",
    "# Step 3: Call tools/list to get available tools\n",
    "list_body = {\"jsonrpc\": \"2.0\", \"id\": \"list-1\", \"method\": \"tools/list\"}\n",
    "\n",
    "list_response = requests.post(GATEWAY_MCP_URL, headers=headers, json=list_body)\n",
    "print(f\"tools/list Status: {list_response.status_code}\")\n",
    "print(\"Available Tools:\")\n",
    "print(json.dumps(list_response.json(), indent=2))"
   ]
  },
  {
   "cell_type": "markdown",
   "id": "be27ba3e",
   "metadata": {},
   "source": [
    "### Step 5: Bearer token injection from MCP client to AgentCore Gateway target\n",
    "\n",
    "Now we will pass the bearer token ``` Bearer ASANA-TOKEN ``` in the parameters (you would replace ``` ASANA-TOKEN ``` with the actual token your MCP client would have obtained) and invoke the tool ```AgentCoreGwyAPIGatewayTarget___asanaInvoke``` from  ```tools/list``` response above. "
   ]
  },
  {
   "cell_type": "code",
   "execution_count": null,
   "id": "668515a5-356a-45a4-8b64-81666f9d5cd8",
   "metadata": {},
   "outputs": [],
   "source": [
    "# Step 1: Get inbound Auth token for MCP client to authenticate with AgentCore\n",
    "token_url = utils.get_ssm_parameter(\"/app/asana/demo/agentcoregwy/cognito_token_url\")\n",
    "client_id = utils.get_ssm_parameter(\"/app/asana/demo/agentcoregwy/machine_client_id\")\n",
    "client_secret = utils.get_cognito_client_secret()\n",
    "inbound_auth_token = utils.fetch_access_token(client_id, client_secret, token_url)\n",
    "print(\"access token received\")\n",
    "\n",
    "# Step 2: Get Gateway config and prepare payload\n",
    "GATEWAY_MCP_URL = gateway_url = (\n",
    "    f\"https://{utils.get_ssm_parameter('/app/asana/demo/agentcoregwy/gateway_id')}.gateway.bedrock-agentcore.us-east-1.amazonaws.com/mcp\"\n",
    ")\n",
    "\n",
    "SESSION_ID = str(uuid.uuid4())\n",
    "headers = {\n",
    "    \"Authorization\": f\"Bearer {inbound_auth_token}\",  # For Inbound Auth\n",
    "    \"Content-Type\": \"application/json\",\n",
    "    \"Mcp-Session-Id\": SESSION_ID,\n",
    "}\n",
    "\n",
    "# Step 3: Call tools/call with Asana token in arguments (will forward as header per updated schema)\n",
    "call_body = {\n",
    "    \"jsonrpc\": \"2.0\",\n",
    "    \"id\": \"call-1\",\n",
    "    \"method\": \"tools/call\",\n",
    "    \"params\": {\n",
    "        \"name\": \"AgentCoreGwyAPIGatewayTarget___asanaInvoke\",  # Exact name from tools/list\n",
    "        \"arguments\": {\n",
    "            \"tool_name\": \"createTask\",\n",
    "            \"X-Asana-Token\": \"Bearer ASANA-TOKEN\",  # Actual Asana bearer token here (forwards to header)\n",
    "            \"name\": \"Test Task from MCP\",\n",
    "            \"notes\": \"This is a test description\",\n",
    "            \"project\": \"your-project-gid\",  # Replace with actual Project GID\n",
    "        },\n",
    "    },\n",
    "}\n",
    "\n",
    "call_response = requests.post(GATEWAY_MCP_URL, headers=headers, json=call_body)\n",
    "print(f\"tools/call Status: {call_response.status_code}\")\n",
    "print(\"Tool Call Response:\")\n",
    "print(json.dumps(call_response.json(), indent=2))"
   ]
  },
  {
   "cell_type": "markdown",
   "id": "777d3d95",
   "metadata": {},
   "source": [
    "### Step 6: Verifying the token injection\n",
    "\n",
    "Let's verify the token injection by checking the logs in CloudWatch. Navigate to ```AsanaIntegrationStackInfra``` Cloudformation stack created in prerequisites: \n",
    "\n",
    "```CloudFormation -> Stacks -> AsanaIntegrationStackInfra``` and look for the Lambda function as shown below:\n",
    "<img src=\"./images/AgentCoreGwyAsanaIntegrationDemo_function_resource.png\" alt=\"AgentCoreGwyAsanaIntegrationDemo function resource \" title=\"AgentCoreGwyAsanaIntegrationDemo function resource\"/> \n",
    "\n",
    "\n",
    "Open the Lambda function in a separate window and click on ```View CloudWatch Logs``` as shown in the screenshot below: <img src=\"./images/AgentCoreGwyAsanaIntegrationDemo_function_log_group.png\" alt=\"AgentCoreGwyAsanaIntegrationDemo function log group \" title=\"AgentCoreGwyAsanaIntegrationDemo function log group\"/>  \n",
    "\n",
    "\n",
    "The following screenshot shows logs from ```AgentCoreGwyAPIGatewayTarget___asanaInvoke``` tool invoke via AgentCore Gateway. It shows that the ``` Bearer token ``` was passed from MCP client to AgentCore Gateway all the way to the Lambda function in header ``` X-Asana-Token ``` as defined in the OpenAPI spec. \n",
    "\n",
    "<img src=\"./images/Lambda-log-received-headers.png\" alt=\"Bearer token injected as header\" title=\"Bearer token injected as header\" />\n",
    "\n",
    "\n",
    "This shows that the authentication token obtained by the MCP client can be used by the Lambda function (or another tool) to authenticate with 3rd party SaaS integration like Asana without conflicting with AgentCore outbound authentication.\n",
    "\n",
    "\n",
    "Rest of the payload from MCP client is available to the Lambda function in the body of the event as shown below:\n",
    "<img src=\"./images/Lambda-log-received-body.png\" alt=\"payload body\" title=\"payload body\" />"
   ]
  },
  {
   "cell_type": "markdown",
   "id": "18038c9a-81ef-4778-9211-647fac66ad29",
   "metadata": {},
   "source": [
    "## Clean up"
   ]
  },
  {
   "cell_type": "markdown",
   "id": "aaf7d685-df5f-4eb3-9177-385f35df0448",
   "metadata": {},
   "source": [
    "### Delete AgentCore Gateway"
   ]
  },
  {
   "cell_type": "code",
   "execution_count": null,
   "id": "83f05358-9687-42cd-8037-2dda6d6cb5dc",
   "metadata": {},
   "outputs": [
    {
     "name": "stdout",
     "output_type": "stream",
     "text": [
      "Deleting all targets for gateway agentcore-gw-asana-integration-gyhxiv6rt5\n"
     ]
    }
   ],
   "source": [
    "import utils\n",
    "import boto3\n",
    "\n",
    "gateway_client = boto3.client(\"bedrock-agentcore-control\")\n",
    "\n",
    "gateway_id = \"agentcore-gw-asana-integration\"\n",
    "utils.delete_gateway(gateway_client, gateway_id)"
   ]
  },
  {
   "cell_type": "markdown",
   "id": "8e0d85d2-168d-47bb-a2c5-ca2f52199891",
   "metadata": {},
   "source": [
    "### Delete Cloudformation stacks"
   ]
  },
  {
   "cell_type": "code",
   "execution_count": null,
   "id": "e29815c1-a6c0-4d56-808c-21ece69f536e",
   "metadata": {},
   "outputs": [],
   "source": [
    "cd 02-AgentCore-gateway/04-bearer-token-injection"
   ]
  },
  {
   "cell_type": "code",
   "execution_count": null,
   "id": "6eb9a4a1-17d6-414a-9b5e-2ae2c2f658a8",
   "metadata": {},
   "outputs": [],
   "source": [
    "!bash clean_up.sh"
   ]
  },
  {
   "cell_type": "code",
   "execution_count": null,
   "id": "3f468140-a3ce-4fd5-9b8f-50dff7943968",
   "metadata": {},
   "outputs": [],
   "source": []
  }
 ],
 "metadata": {
  "kernelspec": {
   "display_name": "Python 3 (ipykernel)",
   "language": "python",
   "name": "python3"
  },
  "language_info": {
   "codemirror_mode": {
    "name": "ipython",
    "version": 3
   },
   "file_extension": ".py",
   "mimetype": "text/x-python",
   "name": "python",
   "nbconvert_exporter": "python",
   "pygments_lexer": "ipython3",
   "version": "3.13.7"
  }
 },
 "nbformat": 4,
 "nbformat_minor": 5
}
