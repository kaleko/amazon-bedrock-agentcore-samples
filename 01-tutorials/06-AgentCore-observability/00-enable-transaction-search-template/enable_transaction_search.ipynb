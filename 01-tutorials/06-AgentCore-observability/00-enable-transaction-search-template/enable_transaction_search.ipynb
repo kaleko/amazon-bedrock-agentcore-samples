{
 "cells": [
  {
   "cell_type": "markdown",
   "id": "b7df06c5",
   "metadata": {},
   "source": [
    "<div style=\"background-color: #fff8e1; border-left: 5px solid #ffc107; padding: 10px; margin-bottom: 10px;\">\n",
    "  <b>Note:</b> If you have already enabled the transaction search in the CloudWatch, you can skip this step.\n",
    "</div>"
   ]
  },
  {
   "cell_type": "markdown",
   "id": "b4027157",
   "metadata": {},
   "source": [
    "# Amazon Bedrock AgentCore Observability: Enable Transaction Search\n",
    "This notebook demonstrates how to enable Transactioin Search for enhanced observability in Amazon Bedrock AgentCore. [Transaction Search](https://docs.aws.amazon.com/AmazonCloudWatch/latest/monitoring/CloudWatch-Transaction-Search.html) is an interactive analytics experience you can use to get complete visibility of your application transaction spans. Spans are the fundamental units of operation in a distributed trace and represent specific actions or tasks in an application or system. Every span records details about a particular segment of the transaction. These details include start and end times, duration, and associated metadata, which can include business attributes like customer IDs and order IDs. Spans are arranged in a parent-child hierarchy. This hierarchy forms a complete trace, mapping the flow of a transaction across different components or services.\n",
    "\n",
    "You can enable Transaction Search through the console or by using an API or by using AWS CloudFormation. Transaction search is configured for the entire account and switches all spans ingestion through X-Ray into cost effective collection mode using [Amazon CloudWatch Pricing](https://aws.amazon.com/cloudwatch/pricing/). By default you will also index 1% of ingested spans for free as trace summary for analysis, which is typically sufficient given you already have full end-to-end trace visibility on all ingested spans through Transaction Search.\n",
    "\n",
    "# What you'll learn\n",
    "- How to enable Transaction Search using AWS CloudFormation\n",
    "\n",
    "# Prerequisites\n",
    "- Grant appropriate permissions to the 'SageMaker Execution Role' to run CLI commands, create CloudFormation stack and enable Trasaction Search as per the [documentation](https://docs.aws.amazon.com/IAM/latest/UserGuide/id_roles_update-role-permissions.html)"
   ]
  },
  {
   "cell_type": "markdown",
   "id": "96c93723-7541-43bd-ae66-a0f38480c9af",
   "metadata": {},
   "source": [
    "# 1. Setup and configuration\n",
    "To enable Transaction Search using CloudFormation, you need to create the following two resources.\n",
    "\n",
    "- AWS::Logs::ResourcePolicy\n",
    "- AWS::XRay::TransactionSearchConfig\n",
    "\n",
    "Sample [CloudFormation template](transaction_search.yml) is provided in the project folder and review/update as per your needs. Run the below code to create resource policy and enable transaction search that allows X-Ray to send traces to CloudWatch Logs"
   ]
  },
  {
   "cell_type": "code",
   "execution_count": null,
   "id": "1e4e71e0-470e-4c95-97e0-46588f49fac1",
   "metadata": {},
   "outputs": [],
   "source": [
    "!aws cloudformation create-stack --stack-name transaction-search --template-body file://transaction_search.yml"
   ]
  },
  {
   "cell_type": "markdown",
   "id": "720f4e5f",
   "metadata": {},
   "source": [
    "Enabling transaction search takes 5 to 10 minutes. Wait until the stack creation is complete with status `CREATE_COMPLETE` and you can use below code to check the status"
   ]
  },
  {
   "cell_type": "code",
   "execution_count": null,
   "id": "24a2f4bf",
   "metadata": {},
   "outputs": [],
   "source": [
    "!aws cloudformation describe-stacks --stack-name transaction-search --query 'Stacks[0].StackStatus' --output text"
   ]
  },
  {
   "cell_type": "markdown",
   "id": "6772e6ba-a1b3-4928-92cc-fda6cbe5bf7b",
   "metadata": {},
   "source": [
    "\n",
    "# 2. Verify configuration\n",
    "\n",
    "After deploying your AWS CloudFormation stack, you can verify the configuration using the below code. A successful configuration will return Destination as 'CloudWatchLogs' and Status as 'ACTIVE'.\n",
    "\n"
   ]
  },
  {
   "cell_type": "code",
   "execution_count": null,
   "id": "a2de8866-b61c-4b67-9139-dc0df915e847",
   "metadata": {},
   "outputs": [],
   "source": [
    "!aws xray get-trace-segment-destination"
   ]
  },
  {
   "cell_type": "markdown",
   "id": "4163740e-bffc-415a-b781-b53d282dc963",
   "metadata": {},
   "source": [
    "\n",
    "You can also verify from the CloudWatch console as below:\n",
    "\n",
    "- Before enabling Transaction Search:\n",
    "\n",
    "<div style=\"text-align:left\">\n",
    "    <img src=\"images/transaction_search_disabled1.png\" width=\"100%\"/>\n",
    "</div>\n",
    "\n",
    "<div style=\"text-align:left\">\n",
    "    <img src=\"images/transaction_search_disabled2.png\" width=\"100%\"/>\n",
    "</div>\n",
    "\n",
    "- After enabling Transaction Search:\n",
    "\n",
    "<div style=\"text-align:left\">\n",
    "    <img src=\"images/transaction_search_enabled1.png\" width=\"100%\"/>\n",
    "</div>\n",
    "\n",
    "<div style=\"text-align:left\">\n",
    "    <img src=\"images/transaction_search_enabled2.png\" width=\"100%\"/>\n",
    "</div>"
   ]
  },
  {
   "cell_type": "markdown",
   "id": "7bf24580-ae09-4649-acd5-070e19c0e39b",
   "metadata": {},
   "source": [
    "\n",
    "\n",
    "# 3. Conclusion\n",
    "\n",
    "When you enable Transaction Search, you unlock multiple capabilities, including features in Application Signals and CloudWatch Logs. Spans sent to X-Ray are ingested in a log group called aws/spans. CloudWatch uses these spans to generate a curated application performance monitoring (APM) experience in CloudWatch Application Signals. This provides you the ability to search and analyze spans, as well as use CloudWatch Logs capabilities like outlier and pattern detection. You can even use custom metric extraction . CloudWatch Application Signals provides you with a unified, application-centric view of your applications, services, and dependencies. It also helps you monitor and triage application health.\n",
    "\n",
    "This module covered how you can enable Trasaction Search using CloudFormation. Optionally, you can also enable Trasaction Search using console or API or CLI as per this [documentation](https://docs.aws.amazon.com/AmazonCloudWatch/latest/monitoring/Enable-TransactionSearch.html).\n",
    "\n",
    "\n"
   ]
  }
 ],
 "metadata": {
  "kernelspec": {
   "display_name": "Python 3 (ipykernel)",
   "language": "python",
   "name": "python3"
  },
  "language_info": {
   "codemirror_mode": {
    "name": "ipython",
    "version": 3
   },
   "file_extension": ".py",
   "mimetype": "text/x-python",
   "name": "python",
   "nbconvert_exporter": "python",
   "pygments_lexer": "ipython3",
   "version": "3.11.11"
  }
 },
 "nbformat": 4,
 "nbformat_minor": 5
}
